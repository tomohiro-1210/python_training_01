{
 "cells": [
  {
   "cell_type": "markdown",
   "id": "c470df23-d361-44db-bcda-8e529087ac17",
   "metadata": {},
   "source": [
    "# コールバック"
   ]
  },
  {
   "cell_type": "code",
   "execution_count": 2,
   "id": "c9855423-5bc0-4795-9a44-f7a05221770b",
   "metadata": {},
   "outputs": [
    {
     "name": "stdout",
     "output_type": "stream",
     "text": [
      "7\n"
     ]
    }
   ],
   "source": [
    "def showResult(a, b, callback): #callbackがコールバック関数\n",
    "    c = callback(a, b)\n",
    "    print(c)\n",
    "\n",
    "def add(a, b):\n",
    "    return a + b\n",
    "\n",
    "showResult(3, 4, add) #第三引数として関数オブジェクトaddを渡す"
   ]
  },
  {
   "cell_type": "code",
   "execution_count": 4,
   "id": "6907d8b0-2e0d-4d9d-b5d3-6b8545970f66",
   "metadata": {},
   "outputs": [
    {
     "name": "stdout",
     "output_type": "stream",
     "text": [
      "スライムドラキー\n"
     ]
    }
   ],
   "source": [
    "def firstParty(mon_a, mon_b, callback):\n",
    "    party = callback(mon_a, mon_b)\n",
    "    print(party)\n",
    "\n",
    "def add(mon_a, mon_b):\n",
    "    return mon_a + mon_b\n",
    "\n",
    "firstParty(\"スライム\" , \"ドラキー\", add)"
   ]
  },
  {
   "cell_type": "code",
   "execution_count": 6,
   "id": "f6c43197-094e-45e9-9043-e564cd582147",
   "metadata": {},
   "outputs": [
    {
     "name": "stdout",
     "output_type": "stream",
     "text": [
      "7\n"
     ]
    }
   ],
   "source": [
    "#無名関数を用いる例\n",
    "def showResult(a, b, callback):\n",
    "    c = callback(a ,b)\n",
    "    print(c)\n",
    "\n",
    "showResult(3, 4, lambda a, b : a + b) #第三引数として無名関数を渡す"
   ]
  },
  {
   "cell_type": "code",
   "execution_count": 7,
   "id": "efb4694d-189b-4bb9-9025-e9f378230cb2",
   "metadata": {},
   "outputs": [
    {
     "name": "stdout",
     "output_type": "stream",
     "text": [
      "I have a Pen. I have a Pineapple.\n"
     ]
    }
   ],
   "source": [
    "#演習\n",
    "def showPP(a, b, callback):\n",
    "    c = callback(a, b)\n",
    "    print(c)\n",
    "\n",
    "def makePP(a, b):\n",
    "    return \"I have a \" + a + \". I have a \" + b + \".\"\n",
    "\n",
    "showPP(\"Pen\", \"Pineapple\", makePP)"
   ]
  },
  {
   "cell_type": "code",
   "execution_count": 8,
   "id": "94b919dd-3ce9-4391-a251-b573e5632013",
   "metadata": {},
   "outputs": [
    {
     "name": "stdout",
     "output_type": "stream",
     "text": [
      "I have a Pen. I have a Pineapple.\n"
     ]
    }
   ],
   "source": [
    "#演習のコードをシンプル化\n",
    "def showPP(a, b, callback):\n",
    "    c = callback(a, b)\n",
    "    print(c)\n",
    "\n",
    "\n",
    "showPP(\"Pen\", \"Pineapple\", lambda a, b : \"I have a \" + a + \". I have a \" + b + \".\")"
   ]
  },
  {
   "cell_type": "code",
   "execution_count": null,
   "id": "6dba2503-1272-44c9-ae8e-3aed72709cb8",
   "metadata": {},
   "outputs": [],
   "source": []
  }
 ],
 "metadata": {
  "kernelspec": {
   "display_name": "Python 3 (ipykernel)",
   "language": "python",
   "name": "python3"
  },
  "language_info": {
   "codemirror_mode": {
    "name": "ipython",
    "version": 3
   },
   "file_extension": ".py",
   "mimetype": "text/x-python",
   "name": "python",
   "nbconvert_exporter": "python",
   "pygments_lexer": "ipython3",
   "version": "3.12.4"
  }
 },
 "nbformat": 4,
 "nbformat_minor": 5
}
