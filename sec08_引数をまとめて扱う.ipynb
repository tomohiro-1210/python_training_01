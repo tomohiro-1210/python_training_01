{
 "cells": [
  {
   "cell_type": "markdown",
   "id": "04383f71-7f70-443b-8073-11b94e5e74d8",
   "metadata": {},
   "source": [
    "# 引数をまとめて扱う"
   ]
  },
  {
   "cell_type": "code",
   "execution_count": 1,
   "id": "2f1526d5-170a-444b-882b-4edd2a0eed4f",
   "metadata": {},
   "outputs": [
    {
     "name": "stdout",
     "output_type": "stream",
     "text": [
      "('DD51-1183', 'DD51-742', 'DD51-1192')\n",
      "DD51-1183 DD51-742 DD51-1192!\n"
     ]
    }
   ],
   "source": [
    "#タプルや辞書を用いて引数を扱う例\n",
    "def showPP(*a): #aはタプル\n",
    "    print(a)\n",
    "\n",
    "    pp = \" \".join(a)\n",
    "    pp += \"!\"\n",
    "\n",
    "    print(pp)\n",
    "\n",
    "showPP(\"DD51-1183\", \"DD51-742\", \"DD51-1192\")"
   ]
  },
  {
   "cell_type": "code",
   "execution_count": 3,
   "id": "eccd6ea5-b69f-48f2-ad94-8ceaa08f81a0",
   "metadata": {},
   "outputs": [
    {
     "name": "stdout",
     "output_type": "stream",
     "text": [
      "('UF46A-50001', 'UT8A-5030糖蜜様！！', 'UR46A-38002')\n",
      "UT8A-5030糖蜜様！！\n",
      "UF46A-50001 UT8A-5030糖蜜様！！ UR46A-38002\n"
     ]
    }
   ],
   "source": [
    "def fright(*container):\n",
    "    print(container)\n",
    "    print(container[1])\n",
    "\n",
    "    fright = \" \".join(container)\n",
    "\n",
    "    print(fright)\n",
    "\n",
    "fright(\"UF46A-50001\", \"UT8A-5030糖蜜様！！\" ,\"UR46A-38002\")"
   ]
  },
  {
   "cell_type": "code",
   "execution_count": 4,
   "id": "24772e85-a709-44e9-85bc-9bd57d44a32e",
   "metadata": {},
   "outputs": [
    {
     "name": "stdout",
     "output_type": "stream",
     "text": [
      "{'pen': 3, 'pencil': 4, 'sharpen': 5}\n"
     ]
    }
   ],
   "source": [
    "#辞書として受け渡す例（**aで辞書になる）\n",
    "def showDic(**a):\n",
    "    print(a)\n",
    "\n",
    "showDic(pen=3, pencil=4, sharpen=5)\n",
    "#↑変数名が辞書のキーになる"
   ]
  },
  {
   "cell_type": "code",
   "execution_count": 7,
   "id": "31cf5f39-77e6-4758-8a4e-b1ebd3881b07",
   "metadata": {},
   "outputs": [
    {
     "name": "stdout",
     "output_type": "stream",
     "text": [
      "{'yakumo': 381, 'nanpu': 2700, 'hokuetsu': 485, 'hitachi': 651, 'odoriko': 185, 'azusa': 183, 'shiokaze': 8000}\n"
     ]
    }
   ],
   "source": [
    "def showSeries(**train):SS\n",
    "    print(train)\n",
    "\n",
    "showSeries(yakumo=381, nanpu=2700, hokuetsu=485, hitachi=651, odoriko=185, azusa=183, shiokaze=8000)"
   ]
  },
  {
   "cell_type": "code",
   "execution_count": 14,
   "id": "1d002368-2072-44a9-8707-ed79377027ec",
   "metadata": {},
   "outputs": [
    {
     "name": "stdout",
     "output_type": "stream",
     "text": [
      "I have a pen.\n"
     ]
    }
   ],
   "source": [
    "#演習\n",
    "def showPen(*a):\n",
    "\n",
    "    b = \" \".join(a)\n",
    "    b += \".\"\n",
    "\n",
    "    print(b)\n",
    "\n",
    "showPen(\"I\" , \"have\", \"a\", \"pen\")"
   ]
  },
  {
   "cell_type": "code",
   "execution_count": null,
   "id": "2e18f86a-e565-478e-9af8-3c07b28273a9",
   "metadata": {},
   "outputs": [],
   "source": []
  }
 ],
 "metadata": {
  "kernelspec": {
   "display_name": "Python 3 (ipykernel)",
   "language": "python",
   "name": "python3"
  },
  "language_info": {
   "codemirror_mode": {
    "name": "ipython",
    "version": 3
   },
   "file_extension": ".py",
   "mimetype": "text/x-python",
   "name": "python",
   "nbconvert_exporter": "python",
   "pygments_lexer": "ipython3",
   "version": "3.12.4"
  }
 },
 "nbformat": 4,
 "nbformat_minor": 5
}
