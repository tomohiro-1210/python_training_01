{
 "cells": [
  {
   "cell_type": "markdown",
   "id": "da3b5acc-7307-4bbf-a316-96b1d271e196",
   "metadata": {},
   "source": [
    "# 文字列の操作１"
   ]
  },
  {
   "cell_type": "code",
   "execution_count": 1,
   "id": "563a2b58-9f81-4884-b498-65dc290d1415",
   "metadata": {},
   "outputs": [
    {
     "name": "stdout",
     "output_type": "stream",
     "text": [
      "['ミミック', 'キラーマシン', 'スーパーキラーマシン', 'ひとくいばこ']\n"
     ]
    }
   ],
   "source": [
    "#splitを用いて文字列を分割する\n",
    "len_a = \"ミミックモンスターキラーマシンモンスタースーパーキラーマシンモンスターひとくいばこ\"\n",
    "b = len_a.split(\"モンスター\")\n",
    "print(b)"
   ]
  },
  {
   "cell_type": "code",
   "execution_count": 5,
   "id": "ce951d68-9ca8-4392-af8a-86d6975b7743",
   "metadata": {},
   "outputs": [
    {
     "name": "stdout",
     "output_type": "stream",
     "text": [
      "やくも号 しおかぜ号 南風号 うずしお号 スーパーいなば\n"
     ]
    }
   ],
   "source": [
    "#joinでリストから文字列を作る\n",
    "ltd_exp = [\"やくも\" , \"しおかぜ\", \"南風\", \"うずしお\", \"スーパーいなば\"]\n",
    "ltd_exp_append = \"号 \".join(ltd_exp)\n",
    "print(ltd_exp_append)"
   ]
  },
  {
   "cell_type": "code",
   "execution_count": 6,
   "id": "df7e98f1-aec1-4882-8ad9-bf16ab0cbc64",
   "metadata": {},
   "outputs": [
    {
     "name": "stdout",
     "output_type": "stream",
     "text": [
      "ミミック キラーマシン スーパーキラーマシン ひとくいばこ\n"
     ]
    }
   ],
   "source": [
    "#replaceで文字列の置き換え\n",
    "len_material = \"ミミックモンスターキラーマシンモンスタースーパーキラーマシンモンスターひとくいばこ\"\n",
    "len_material_b = len_material.replace(\"モンスター\", \" \")\n",
    "print(len_material_b)"
   ]
  },
  {
   "cell_type": "code",
   "execution_count": 8,
   "id": "2d7cb421-7c59-458e-9332-948ac9d1cecd",
   "metadata": {},
   "outputs": [
    {
     "name": "stdout",
     "output_type": "stream",
     "text": [
      "LongPenPineappleAppleLongPen\n"
     ]
    }
   ],
   "source": [
    "#演習\n",
    "ppap = \"PenPineappleApplePen\"\n",
    "a = ppap.replace(\"Pen\", \"LongPen\")\n",
    "print(a)"
   ]
  },
  {
   "cell_type": "code",
   "execution_count": null,
   "id": "389bca0e-4439-43ee-b4b9-fd28dbd2a393",
   "metadata": {},
   "outputs": [],
   "source": []
  }
 ],
 "metadata": {
  "kernelspec": {
   "display_name": "Python 3 (ipykernel)",
   "language": "python",
   "name": "python3"
  },
  "language_info": {
   "codemirror_mode": {
    "name": "ipython",
    "version": 3
   },
   "file_extension": ".py",
   "mimetype": "text/x-python",
   "name": "python",
   "nbconvert_exporter": "python",
   "pygments_lexer": "ipython3",
   "version": "3.12.4"
  }
 },
 "nbformat": 4,
 "nbformat_minor": 5
}
