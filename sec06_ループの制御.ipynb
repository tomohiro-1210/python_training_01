{
 "cells": [
  {
   "cell_type": "markdown",
   "id": "e994fa40-c619-470d-9f2c-2dbe63c58264",
   "metadata": {},
   "source": [
    "# ループの制御"
   ]
  },
  {
   "cell_type": "code",
   "execution_count": 2,
   "id": "4357333c-6e63-4c40-bf03-26fc5265a5e4",
   "metadata": {},
   "outputs": [
    {
     "name": "stdout",
     "output_type": "stream",
     "text": [
      "1\n",
      "2\n",
      "3\n",
      "4\n",
      "5\n",
      "6\n",
      "7\n",
      "ループ処理停止\n"
     ]
    }
   ],
   "source": [
    "#breakを使ってループを中断\n",
    "a = [1, 2, 3, 4, 5, 6, 7, 8, 9, 10, 11, 12, 13, 14, 15, 16, 17, 18, 19, 20]\n",
    "\n",
    "for b in a:\n",
    "    print(b)\n",
    "    if b == a[6]:\n",
    "        break\n",
    "\n",
    "print(\"ループ処理停止\")"
   ]
  },
  {
   "cell_type": "code",
   "execution_count": 6,
   "id": "0f6b7b10-be8e-4fa8-9ab0-2dfd8e5f364d",
   "metadata": {},
   "outputs": [
    {
     "name": "stdout",
     "output_type": "stream",
     "text": [
      "1\n",
      "2\n",
      "4\n",
      "5\n",
      "7\n",
      "8\n",
      "9\n"
     ]
    }
   ],
   "source": [
    "#continueによりループがスキップされる\n",
    "a = [1 ,2 ,3, 4, 5, 6, 7, 8, 9]\n",
    "\n",
    "for b in a:\n",
    "    if b == a[2]:\n",
    "        continue\n",
    "    elif b == 6:\n",
    "        continue\n",
    "    print(b)"
   ]
  },
  {
   "cell_type": "code",
   "execution_count": 8,
   "id": "5806bafd-8a91-4c96-aec5-77203d48da0c",
   "metadata": {},
   "outputs": [
    {
     "name": "stdout",
     "output_type": "stream",
     "text": [
      "PenPineappleApplePen!\n"
     ]
    }
   ],
   "source": [
    "#演習\n",
    "ppap = [\"Pen\", \"Pico\", \"Pico\", \"Pineapple\", \"Pico\", \"Apple\", \"Pen\", \"Pico\"]\n",
    "ppapText = \"\"\n",
    "\n",
    "for p in ppap:\n",
    "    if p == \"Pico\":\n",
    "        continue\n",
    "    ppapText += p\n",
    "\n",
    "ppapText += \"!\"\n",
    "print(ppapText)"
   ]
  },
  {
   "cell_type": "code",
   "execution_count": null,
   "id": "486a4960-5c9f-4fd2-b60a-30629e9cf547",
   "metadata": {},
   "outputs": [],
   "source": []
  }
 ],
 "metadata": {
  "kernelspec": {
   "display_name": "Python 3 (ipykernel)",
   "language": "python",
   "name": "python3"
  },
  "language_info": {
   "codemirror_mode": {
    "name": "ipython",
    "version": 3
   },
   "file_extension": ".py",
   "mimetype": "text/x-python",
   "name": "python",
   "nbconvert_exporter": "python",
   "pygments_lexer": "ipython3",
   "version": "3.12.4"
  }
 },
 "nbformat": 4,
 "nbformat_minor": 5
}
