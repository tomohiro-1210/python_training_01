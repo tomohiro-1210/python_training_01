{
 "cells": [
  {
   "cell_type": "markdown",
   "id": "60f06f4e-52db-48fe-beef-246a7750a4d3",
   "metadata": {},
   "source": [
    "# タプルの操作"
   ]
  },
  {
   "cell_type": "code",
   "execution_count": 5,
   "id": "d2667485-ef0a-4853-adab-e7e9a8f4b1ca",
   "metadata": {},
   "outputs": [
    {
     "name": "stdout",
     "output_type": "stream",
     "text": [
      "(1, 2, 3)\n",
      "2\n"
     ]
    },
    {
     "ename": "TypeError",
     "evalue": "'tuple' object does not support item assignment",
     "output_type": "error",
     "traceback": [
      "\u001b[1;31m---------------------------------------------------------------------------\u001b[0m",
      "\u001b[1;31mTypeError\u001b[0m                                 Traceback (most recent call last)",
      "Cell \u001b[1;32mIn[5], line 8\u001b[0m\n\u001b[0;32m      5\u001b[0m a[\u001b[38;5;241m1\u001b[39m] \u001b[38;5;66;03m#リストと同じようにアクセスが可能\u001b[39;00m\n\u001b[0;32m      6\u001b[0m \u001b[38;5;28mprint\u001b[39m(a[\u001b[38;5;241m1\u001b[39m])\n\u001b[1;32m----> 8\u001b[0m a[\u001b[38;5;241m1\u001b[39m] \u001b[38;5;241m=\u001b[39m \u001b[38;5;241m10\u001b[39m\n\u001b[0;32m      9\u001b[0m \u001b[38;5;28mprint\u001b[39m(a)\n",
      "\u001b[1;31mTypeError\u001b[0m: 'tuple' object does not support item assignment"
     ]
    }
   ],
   "source": [
    "#タプルは複数の要素を（）内に,で区切って記述する\n",
    "a = (1 ,2 ,3)\n",
    "print(a)\n",
    "\n",
    "a[1] #リストと同じようにアクセスが可能\n",
    "print(a[1])\n",
    "\n",
    "a[1] = 10 #要素の変更は不可能\n",
    "print(a)"
   ]
  },
  {
   "cell_type": "code",
   "execution_count": 6,
   "id": "8340a875-0f18-4461-bee1-cdf8461d2456",
   "metadata": {},
   "outputs": [
    {
     "name": "stdout",
     "output_type": "stream",
     "text": [
      "(1, 2, 3, 4, 5, 6, 7, 8, 9)\n"
     ]
    }
   ],
   "source": [
    "#タプルの結合は可能\n",
    "a = (1 ,2 ,3)\n",
    "b = (4, 5 ,6)\n",
    "c = (7, 8 ,9)\n",
    "d = a + b + c\n",
    "print(d)"
   ]
  },
  {
   "cell_type": "code",
   "execution_count": 10,
   "id": "af4e3765-eb65-4f34-853e-c1d99b94855d",
   "metadata": {},
   "outputs": [
    {
     "name": "stdout",
     "output_type": "stream",
     "text": [
      "['クロ683-8001', 'サハ682-8002', 'モハ683-8001', 'サハ683-8301', 'サハ682-8001', 'クモハ683-8501', 'クハ683-8701', 'モハ683-8301', 'クハ682-8501']\n",
      "編成組み換え後\n",
      "['クロ683-8001', 'サハ682-8002', 'モハ683-8301', 'サハ683-8301', 'サハ682-8001', 'クモハ683-8501', 'クハ683-8701', 'モハ683-8001', 'クハ682-8501']\n"
     ]
    }
   ],
   "source": [
    "#リストが組み換えできるなら\n",
    "n03 = [\"クロ683-8001\", \"サハ682-8002\", \"モハ683-8001\", \"サハ683-8301\", \"サハ682-8001\", \"クモハ683-8501\"]\n",
    "n13 = [\"クハ683-8701\", \"モハ683-8301\", \"クハ682-8501\"]\n",
    "\n",
    "snow_rabbit = n03 + n13\n",
    "print(snow_rabbit)\n",
    "\n",
    "print(\"編成組み換え後\")\n",
    "n03[2] = \"モハ683-8301\"\n",
    "n13[1] = \"モハ683-8001\"\n",
    "\n",
    "snow_rabbit = n03 + n13\n",
    "print(snow_rabbit)"
   ]
  },
  {
   "cell_type": "code",
   "execution_count": 11,
   "id": "92d6c506-9770-49ca-a3a9-1c6730a831f8",
   "metadata": {},
   "outputs": [
    {
     "name": "stdout",
     "output_type": "stream",
     "text": [
      "('クロ683-8001', 'サハ682-8002', 'モハ683-8001', 'サハ683-8301', 'サハ682-8001', 'クモハ683-8501', 'クハ683-8701', 'モハ683-8301', 'クハ682-8501')\n",
      "編成組み換え後\n"
     ]
    },
    {
     "ename": "TypeError",
     "evalue": "'tuple' object does not support item assignment",
     "output_type": "error",
     "traceback": [
      "\u001b[1;31m---------------------------------------------------------------------------\u001b[0m",
      "\u001b[1;31mTypeError\u001b[0m                                 Traceback (most recent call last)",
      "Cell \u001b[1;32mIn[11], line 9\u001b[0m\n\u001b[0;32m      6\u001b[0m \u001b[38;5;28mprint\u001b[39m(snow_rabbit)\n\u001b[0;32m      8\u001b[0m \u001b[38;5;28mprint\u001b[39m(\u001b[38;5;124m\"\u001b[39m\u001b[38;5;124m編成組み換え後\u001b[39m\u001b[38;5;124m\"\u001b[39m)\n\u001b[1;32m----> 9\u001b[0m n03[\u001b[38;5;241m2\u001b[39m] \u001b[38;5;241m=\u001b[39m \u001b[38;5;124m\"\u001b[39m\u001b[38;5;124mモハ683-8301\u001b[39m\u001b[38;5;124m\"\u001b[39m\n\u001b[0;32m     10\u001b[0m n13[\u001b[38;5;241m1\u001b[39m] \u001b[38;5;241m=\u001b[39m \u001b[38;5;124m\"\u001b[39m\u001b[38;5;124mモハ683-8001\u001b[39m\u001b[38;5;124m\"\u001b[39m\n\u001b[0;32m     12\u001b[0m snow_rabbit \u001b[38;5;241m=\u001b[39m n03 \u001b[38;5;241m+\u001b[39m n13\n",
      "\u001b[1;31mTypeError\u001b[0m: 'tuple' object does not support item assignment"
     ]
    }
   ],
   "source": [
    "#タプルは編成組み換えができない\n",
    "n03 = (\"クロ683-8001\", \"サハ682-8002\", \"モハ683-8001\", \"サハ683-8301\", \"サハ682-8001\", \"クモハ683-8501\")\n",
    "n13 = (\"クハ683-8701\", \"モハ683-8301\", \"クハ682-8501\")\n",
    "\n",
    "snow_rabbit = n03 + n13\n",
    "print(snow_rabbit)\n",
    "\n",
    "print(\"編成組み換え後\")\n",
    "n03[2] = \"モハ683-8301\"\n",
    "n13[1] = \"モハ683-8001\"\n",
    "\n",
    "snow_rabbit = n03 + n13\n",
    "print(snow_rabbit)"
   ]
  },
  {
   "cell_type": "code",
   "execution_count": 16,
   "id": "c67934d9-ff59-41a3-9872-7e48646c9357",
   "metadata": {},
   "outputs": [
    {
     "name": "stdout",
     "output_type": "stream",
     "text": [
      "('I', 'have', 'an', 'apple.')\n",
      "('I', 'have', 'an', 'apple.')\n",
      "('I', 'have', 'a', 'pineapple')\n",
      "('I', 'have', 'an', 'apple.', 'I', 'have', 'a', 'pineapple')\n"
     ]
    }
   ],
   "source": [
    "#演習\n",
    "apple = (\"I\" , \"have\", \"an\", \"apple.\")\n",
    "pine = (\"I\", \"have\" , \"a\" , \"pineapple\")\n",
    "\n",
    "#apple.append[\"Wow!\"]\n",
    "print(apple)\n",
    "#pine[1] = \"know\"\n",
    "a = pine[2]\n",
    "#apple[2] = \"the\"\n",
    "ap = apple + pine\n",
    "\n",
    "print(apple)\n",
    "print(pine)\n",
    "print(ap)"
   ]
  },
  {
   "cell_type": "code",
   "execution_count": null,
   "id": "faa12bc4-cab7-407d-ad21-2f8b30f76de4",
   "metadata": {},
   "outputs": [],
   "source": []
  }
 ],
 "metadata": {
  "kernelspec": {
   "display_name": "Python 3 (ipykernel)",
   "language": "python",
   "name": "python3"
  },
  "language_info": {
   "codemirror_mode": {
    "name": "ipython",
    "version": 3
   },
   "file_extension": ".py",
   "mimetype": "text/x-python",
   "name": "python",
   "nbconvert_exporter": "python",
   "pygments_lexer": "ipython3",
   "version": "3.12.4"
  }
 },
 "nbformat": 4,
 "nbformat_minor": 5
}
