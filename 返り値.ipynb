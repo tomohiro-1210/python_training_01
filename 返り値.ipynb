{
 "cells": [
  {
   "cell_type": "markdown",
   "id": "32c953ac-37a7-4123-b987-cc32911f40b3",
   "metadata": {},
   "source": [
    "# 返り値"
   ]
  },
  {
   "cell_type": "code",
   "execution_count": 5,
   "id": "0111eba5-6a3c-423f-afae-61084000c31b",
   "metadata": {},
   "outputs": [
    {
     "name": "stdout",
     "output_type": "stream",
     "text": [
      "123\n"
     ]
    }
   ],
   "source": [
    "#返り値を用いると、関数から外部に値を渡すことができる\n",
    "def getNumber():\n",
    "    a = 123\n",
    "    return a\n",
    "\n",
    "b = getNumber()\n",
    "print(b)"
   ]
  },
  {
   "cell_type": "code",
   "execution_count": 6,
   "id": "14a90b9f-559c-46ab-bb4b-600e16d8c50d",
   "metadata": {},
   "outputs": [
    {
     "name": "stdout",
     "output_type": "stream",
     "text": [
      "アスラゾーマ\n",
      "グランエスターク\n"
     ]
    }
   ],
   "source": [
    "def getMonster():\n",
    "    a = \"アスラゾーマ\"\n",
    "    return a\n",
    "\n",
    "b = getMonster()\n",
    "print(b)\n",
    "\n",
    "def king():\n",
    "    name = \"グランエスターク\"\n",
    "    return name\n",
    "\n",
    "output = king()\n",
    "print(output)"
   ]
  },
  {
   "cell_type": "code",
   "execution_count": 14,
   "id": "72546a0d-7e31-408f-acf0-2715e7404078",
   "metadata": {},
   "outputs": [
    {
     "name": "stdout",
     "output_type": "stream",
     "text": [
      "4\n",
      "15\n",
      "スライムAスライムB\n",
      "[1, 2, 3, 4, 5, 11, 12, 13, 14, 15]\n"
     ]
    }
   ],
   "source": [
    "#引数と返り値を組み合わせることもできる\n",
    "def add(a, b):\n",
    "    c = a + b\n",
    "    return c\n",
    "\n",
    "result1 = add(3, 1)\n",
    "print(result1)\n",
    "\n",
    "result2 = add(7, 8)\n",
    "print(result2)\n",
    "\n",
    "result3 = add(\"スライムA\", \"スライムB\")\n",
    "print(result3)\n",
    "\n",
    "len1 = [1 ,2, 3, 4, 5]\n",
    "len2 = [11, 12, 13, 14, 15]\n",
    "result4 = add(len1, len2)\n",
    "print(result4)"
   ]
  },
  {
   "cell_type": "code",
   "execution_count": 15,
   "id": "8a266937-74ee-4d25-b7b5-010f7a4de6ec",
   "metadata": {},
   "outputs": [
    {
     "name": "stdout",
     "output_type": "stream",
     "text": [
      "(10, 16)\n"
     ]
    }
   ],
   "source": [
    "def addAndMultiply(a, b):\n",
    "    c = a + b\n",
    "    d = a * b\n",
    "    return(c, d)\n",
    "\n",
    "result1 = addAndMultiply(2, 8)\n",
    "print(result1)"
   ]
  },
  {
   "cell_type": "code",
   "execution_count": 17,
   "id": "54eb6bca-e5ce-4957-acef-bc401fd2ba26",
   "metadata": {},
   "outputs": [
    {
     "name": "stdout",
     "output_type": "stream",
     "text": [
      "I have 3 pens. I have 4 apples.\n"
     ]
    }
   ],
   "source": [
    "#演習\n",
    "def getPA(p, a):\n",
    "    pa = \"I have \" + str(p) + \" pens. \" + \"I have \" + str(a) + \" apples.\"\n",
    "    return pa\n",
    "\n",
    "paText = getPA(3, 4)\n",
    "print(paText)"
   ]
  },
  {
   "cell_type": "code",
   "execution_count": null,
   "id": "ff4f7266-beb5-4ce0-9fe2-e36589fbf51c",
   "metadata": {},
   "outputs": [],
   "source": []
  }
 ],
 "metadata": {
  "kernelspec": {
   "display_name": "Python 3 (ipykernel)",
   "language": "python",
   "name": "python3"
  },
  "language_info": {
   "codemirror_mode": {
    "name": "ipython",
    "version": 3
   },
   "file_extension": ".py",
   "mimetype": "text/x-python",
   "name": "python",
   "nbconvert_exporter": "python",
   "pygments_lexer": "ipython3",
   "version": "3.12.4"
  }
 },
 "nbformat": 4,
 "nbformat_minor": 5
}
