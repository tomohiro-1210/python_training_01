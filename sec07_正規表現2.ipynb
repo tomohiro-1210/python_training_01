{
 "cells": [
  {
   "cell_type": "markdown",
   "id": "da1fd9f9-c298-4732-a6c3-eaf54a1a0a46",
   "metadata": {},
   "source": [
    "# 正規表現2"
   ]
  },
  {
   "cell_type": "code",
   "execution_count": 1,
   "id": "704df4ce-0230-4c3b-bb4d-fa7e839c8797",
   "metadata": {},
   "outputs": [
    {
     "name": "stdout",
     "output_type": "stream",
     "text": [
      "<module 're' from 'C:\\\\ProgramData\\\\anaconda3\\\\Lib\\\\re\\\\__init__.py'>\n"
     ]
    }
   ],
   "source": [
    "import re\n",
    "\n",
    "print(re)"
   ]
  },
  {
   "cell_type": "code",
   "execution_count": 2,
   "id": "82ef2745-46e1-46c9-873d-8491e7f7002c",
   "metadata": {},
   "outputs": [
    {
     "name": "stdout",
     "output_type": "stream",
     "text": [
      "サンダーバード\n"
     ]
    }
   ],
   "source": [
    "#文字の繰り返しを置き換える\n",
    "text = \"サンダーーーーーーーーーーーーーーバード\"\n",
    "\n",
    "text = re.sub(\"ー+\", \"ー\", text)\n",
    "print(text)"
   ]
  },
  {
   "cell_type": "code",
   "execution_count": 3,
   "id": "0f4ec519-3253-4b1b-a07b-e06dd0f62064",
   "metadata": {},
   "outputs": [
    {
     "name": "stdout",
     "output_type": "stream",
     "text": [
      "ジョバンニは、せわしくいろいろのことを考えながら、さまざまの灯や木の枝で、すっかりきれいに飾られた街を通って行きました。時計屋の店には明るくネオン燈がついて、一秒ごとに石でこさえたふくろうの赤い眼が、くるっくるっとうごいたり、いろいろな宝石が海のような色をした厚い硝子の盤に載って星のようにゆっくり循ったり、また向う側から、銅の人馬がゆっくりこっちへまわって来たりするのでした。そのまん中に円い黒い星座早見が青いアスパラガスの葉で飾ってありました。\n"
     ]
    }
   ],
   "source": [
    "import re\n",
    "\n",
    "g_train = \"ジョバンニは、せわしくいろいろのことを考えながら、さまざまの灯《あかり》や木の枝《えだ》で、すっかりきれいに飾《かざ》られた街を通って行きました。時計屋の店には明るくネオン燈がついて、一秒ごとに石でこさえたふくろうの赤い眼《め》が、くるっくるっとうごいたり、いろいろな宝石が海のような色をした厚い硝子《ガラス》の盤《ばん》に載《の》って星のようにゆっくり循《めぐ》ったり、また向う側から、銅の人馬がゆっくりこっちへまわって来たりするのでした。そのまん中に円い黒い星座早見が青いアスパラガスの葉で飾ってありました。\"\n",
    "\n",
    "g_train = re.sub(\"《[^》]+》\", \"\", g_train)\n",
    "print(g_train)"
   ]
  },
  {
   "cell_type": "code",
   "execution_count": 5,
   "id": "0fb5b1f1-ac83-4e0b-81f3-4a9c0bada45c",
   "metadata": {},
   "outputs": [
    {
     "name": "stdout",
     "output_type": "stream",
     "text": [
      "　吾輩は猫である。名前はまだ無い。どこで生れたかとんと見当がつかぬ。何でも薄暗いじめじめした所でニャーニャー泣いていた事だけは記憶している。吾輩はここで始めて人間というものを見た。しかもあとで聞くとそれは書生という人間中で一番獰悪な種族であったそうだ。この書生というのは時々我々を捕えて煮て食うという話である。\n"
     ]
    }
   ],
   "source": [
    "w_cat = \"　吾輩《わがはい》は猫である。名前はまだ無い。どこで生れたかとんと見当《けんとう》がつかぬ。何でも薄暗いじめじめした所でニャーニャー泣いていた事だけは記憶している。吾輩はここで始めて人間というものを見た。しかもあとで聞くとそれは書生という人間中で一番獰悪《どうあく》な種族であったそうだ。この書生というのは時々我々を捕《つかま》えて煮《に》て食うという話である。\"\n",
    "\n",
    "w_cat = re.sub(\"《[^》]+》\", \"\", w_cat)\n",
    "print(w_cat)"
   ]
  },
  {
   "cell_type": "code",
   "execution_count": null,
   "id": "3619dfba-b279-4bbc-a5a9-e1924d19c3a3",
   "metadata": {},
   "outputs": [],
   "source": []
  }
 ],
 "metadata": {
  "kernelspec": {
   "display_name": "Python 3 (ipykernel)",
   "language": "python",
   "name": "python3"
  },
  "language_info": {
   "codemirror_mode": {
    "name": "ipython",
    "version": 3
   },
   "file_extension": ".py",
   "mimetype": "text/x-python",
   "name": "python",
   "nbconvert_exporter": "python",
   "pygments_lexer": "ipython3",
   "version": "3.12.4"
  }
 },
 "nbformat": 4,
 "nbformat_minor": 5
}
