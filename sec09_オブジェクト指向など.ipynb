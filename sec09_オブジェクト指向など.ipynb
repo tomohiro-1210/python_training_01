{
 "cells": [
  {
   "cell_type": "markdown",
   "id": "9dfda579-e4a8-4e1c-9370-dfa32ca94685",
   "metadata": {},
   "source": [
    "# オブジェクト指向"
   ]
  },
  {
   "cell_type": "code",
   "execution_count": 1,
   "id": "bf37363b-dc42-448d-a81d-0a7afa8b9e39",
   "metadata": {},
   "outputs": [
    {
     "name": "stdout",
     "output_type": "stream",
     "text": [
      "P編成！\n"
     ]
    }
   ],
   "source": [
    "class P():\n",
    "    def sayP(self):\n",
    "        print(\"P編成！\")\n",
    "\n",
    "p = P()\n",
    "p.sayP()\n"
   ]
  },
  {
   "cell_type": "code",
   "execution_count": 2,
   "id": "4cebf9ed-649e-46fd-8507-b2bd59b02c00",
   "metadata": {},
   "outputs": [
    {
     "name": "stdout",
     "output_type": "stream",
     "text": [
      "['天海春香', '如月千早', '星井美希']\n"
     ]
    }
   ],
   "source": [
    "#演習\n",
    "class idol():\n",
    "    def namcoPro(self):\n",
    "        namco_idols = [\"天海春香\", \"如月千早\", \"星井美希\"]\n",
    "        print(namco_idols)\n",
    "\n",
    "idol = idol()\n",
    "idol.namcoPro()"
   ]
  },
  {
   "cell_type": "markdown",
   "id": "03cb35c9-8d31-43f1-9636-8434f73531ac",
   "metadata": {},
   "source": [
    "<br>\n",
    "<h1>メソッド</h1>"
   ]
  },
  {
   "cell_type": "code",
   "execution_count": 5,
   "id": "c2c466d5-d457-4723-8c95-a4ef9362343e",
   "metadata": {},
   "outputs": [
    {
     "name": "stdout",
     "output_type": "stream",
     "text": [
      "Hello wordpress!!\n"
     ]
    }
   ],
   "source": [
    "#メソッド\n",
    "class Greeting1:\n",
    "    def sh(self): #selfはそのインスタンス自身を示すもの\n",
    "        print(\"Hello wordpress!!\")\n",
    "\n",
    "gr_1 = Greeting1()\n",
    "gr_1.sh()"
   ]
  },
  {
   "cell_type": "code",
   "execution_count": 9,
   "id": "9b0e76f3-b49c-41ba-8f65-7da54889d91c",
   "metadata": {},
   "outputs": [
    {
     "name": "stdout",
     "output_type": "stream",
     "text": [
      "こんにちは！！\n",
      "はじめまして！！\n"
     ]
    }
   ],
   "source": [
    "class Greeting2:\n",
    "    def sayNice(self):\n",
    "        self.sayHello()\n",
    "        print(\"はじめまして！！\")\n",
    "\n",
    "    def sayHello(self):\n",
    "        print(\"こんにちは！！\")\n",
    "\n",
    "gr_2 = Greeting2()\n",
    "gr_2.sayNice()"
   ]
  },
  {
   "cell_type": "code",
   "execution_count": 10,
   "id": "bfead290-492d-47c3-8821-e1db8f516d10",
   "metadata": {},
   "outputs": [
    {
     "name": "stdout",
     "output_type": "stream",
     "text": [
      "菊池真\n",
      "ダークキング\n"
     ]
    }
   ],
   "source": [
    "#演習\n",
    "class library():\n",
    "    def monsters(self):\n",
    "        self.idols()\n",
    "        print(\"ダークキング\")\n",
    "\n",
    "    def idols(self):\n",
    "        print(\"菊池真\")\n",
    "\n",
    "library1 = library()\n",
    "library1.monsters()"
   ]
  },
  {
   "cell_type": "markdown",
   "id": "a63f5cdf-dbfc-4a72-b11f-2be7f5533974",
   "metadata": {},
   "source": [
    "<br>\n",
    "<h1>インスタンス変数</h1>"
   ]
  },
  {
   "cell_type": "code",
   "execution_count": 14,
   "id": "6ae23ec7-5bb2-484f-b208-40e8449feb59",
   "metadata": {},
   "outputs": [
    {
     "name": "stdout",
     "output_type": "stream",
     "text": [
      "キュアピーチ\n",
      "キュアスパイシー\n"
     ]
    }
   ],
   "source": [
    "class Pico1:\n",
    "    def setFruit(self):\n",
    "        self.peach = \"キュアピーチ\" #インスタンス変数を設定\n",
    "        self.spicy = \"キュアスパイシー\" #インスタンス変数を設定\n",
    "\n",
    "pl = Pico1() #インスタンスを生成\n",
    "pl.setFruit()\n",
    "\n",
    "print(pl.peach) #インスタンス変数にアクセス\n",
    "print(pl.spicy) #インスタンス変数にアクセス"
   ]
  },
  {
   "cell_type": "code",
   "execution_count": 18,
   "id": "f1fe9834-6072-4e81-b74f-106fd43a4a06",
   "metadata": {},
   "outputs": [
    {
     "name": "stdout",
     "output_type": "stream",
     "text": [
      "春日未来 最上静香\n",
      "櫻木真乃 風野灯織\n"
     ]
    }
   ],
   "source": [
    "#複数のインスタンスを生成\n",
    "class production():\n",
    "    def setIdol(self, red, blue):\n",
    "        self.idol1 = red\n",
    "        self.idol2 = blue\n",
    "\n",
    "namcoP = production()\n",
    "namcoP.setIdol(\"春日未来\", \"最上静香\") #selfは渡さなくてもいい\n",
    "\n",
    "tsubasaP = production()\n",
    "tsubasaP.setIdol(\"櫻木真乃\", \"風野灯織\")\n",
    "\n",
    "print(namcoP.idol1, namcoP.idol2)\n",
    "print(tsubasaP.idol1, tsubasaP.idol2)"
   ]
  },
  {
   "cell_type": "code",
   "execution_count": 20,
   "id": "56104856-1a11-4f1a-b934-8ca958ae8465",
   "metadata": {},
   "outputs": [
    {
     "name": "stdout",
     "output_type": "stream",
     "text": [
      "サンダー フリーザ\n",
      "ホウオウ ルギア\n",
      "カイオーガ グラードン\n",
      "ディアルガ パルキア\n"
     ]
    }
   ],
   "source": [
    "#演習\n",
    "class pokemonSeries():\n",
    "    def legendMonster(self, series1, series2):\n",
    "        self.legend1 = series1\n",
    "        self.legend2 = series2\n",
    "\n",
    "red = pokemonSeries()\n",
    "red.legendMonster(\"サンダー\", \"フリーザ\")\n",
    "\n",
    "gold = pokemonSeries()\n",
    "gold.legendMonster(\"ホウオウ\", \"ルギア\")\n",
    "\n",
    "sapphire = pokemonSeries()\n",
    "sapphire.legendMonster(\"カイオーガ\", \"グラードン\")\n",
    "\n",
    "diamond = pokemonSeries()\n",
    "diamond.legendMonster(\"ディアルガ\", \"パルキア\")\n",
    "\n",
    "print(red.legend1, red.legend2)\n",
    "print(gold.legend1, gold.legend2)\n",
    "print(sapphire.legend1, sapphire.legend2)\n",
    "print(diamond.legend1, diamond.legend2)"
   ]
  },
  {
   "cell_type": "markdown",
   "id": "f738ef3c-e18f-42e1-ba98-d673199c987f",
   "metadata": {},
   "source": [
    "<br>\n",
    "<h1>コンストラクタ(イニシャライザ)</h1>"
   ]
  },
  {
   "cell_type": "code",
   "execution_count": 21,
   "id": "30fdddd7-a1c4-491d-a58b-d77ba1a0f39a",
   "metadata": {},
   "outputs": [
    {
     "name": "stdout",
     "output_type": "stream",
     "text": [
      "青森 沖縄\n"
     ]
    }
   ],
   "source": [
    "#__init__\n",
    "class pico1():\n",
    "    def __init__(self, ap, pi):\n",
    "        self.apple = ap\n",
    "        self.pine = pi\n",
    "\n",
    "    def sayAP(self):\n",
    "        print(self.apple, self.pine)\n",
    "\n",
    "p1 = pico1(\"青森\", \"沖縄\")\n",
    "p1.sayAP()"
   ]
  },
  {
   "cell_type": "code",
   "execution_count": 22,
   "id": "da321eb1-f5b5-41ea-a101-aad9d5178c61",
   "metadata": {},
   "outputs": [
    {
     "ename": "TypeError",
     "evalue": "pico1.__init__() missing 2 required positional arguments: 'ap' and 'pi'",
     "output_type": "error",
     "traceback": [
      "\u001b[1;31m---------------------------------------------------------------------------\u001b[0m",
      "\u001b[1;31mTypeError\u001b[0m                                 Traceback (most recent call last)",
      "Cell \u001b[1;32mIn[22], line 10\u001b[0m\n\u001b[0;32m      7\u001b[0m     \u001b[38;5;28;01mdef\u001b[39;00m \u001b[38;5;21msayAP\u001b[39m(\u001b[38;5;28mself\u001b[39m):\n\u001b[0;32m      8\u001b[0m         \u001b[38;5;28mprint\u001b[39m(\u001b[38;5;28mself\u001b[39m\u001b[38;5;241m.\u001b[39mapple, \u001b[38;5;28mself\u001b[39m\u001b[38;5;241m.\u001b[39mpine)\n\u001b[1;32m---> 10\u001b[0m p1 \u001b[38;5;241m=\u001b[39m pico1()\n\u001b[0;32m     11\u001b[0m p1\u001b[38;5;241m.\u001b[39msayAP()\n",
      "\u001b[1;31mTypeError\u001b[0m: pico1.__init__() missing 2 required positional arguments: 'ap' and 'pi'"
     ]
    }
   ],
   "source": [
    "#コンストラクタで価を渡さない例\n",
    "class pico1():\n",
    "    def __init__(self, ap, pi):\n",
    "        self.apple = ap\n",
    "        self.pine = pi\n",
    "\n",
    "    def sayAP(self):\n",
    "        print(self.apple, self.pine)\n",
    "\n",
    "p1 = pico1()\n",
    "p1.sayAP()"
   ]
  },
  {
   "cell_type": "code",
   "execution_count": 27,
   "id": "9709735a-657c-40c4-a593-0ee55038bd1f",
   "metadata": {},
   "outputs": [
    {
     "name": "stdout",
     "output_type": "stream",
     "text": [
      "ゼニガメ ヒトカゲ フシギダネ\n",
      "ワニノコ ヒノアラシ チコリータ\n",
      "ミズゴロウ アチャモ 木森\n"
     ]
    }
   ],
   "source": [
    "#演習\n",
    "class gosanke():\n",
    "    def __init__(self, water, fire, leef):\n",
    "        self.typeWater = water\n",
    "        self.typeFire = fire\n",
    "        self.typeLeef = leef\n",
    "\n",
    "    def chooseGosanke(self):\n",
    "        print(self.typeWater, self.typeFire, self.typeLeef)\n",
    "\n",
    "pica = gosanke(\"ゼニガメ\", \"ヒトカゲ\", \"フシギダネ\")\n",
    "pica.chooseGosanke()\n",
    "\n",
    "gosi = gosanke(\"ワニノコ\", \"ヒノアラシ\", \"チコリータ\")\n",
    "gosi.chooseGosanke()\n",
    "\n",
    "rusa = gosanke(\"ミズゴロウ\", \"アチャモ\", \"木森\") #キモリを引き渡ししていないのでエラーが出る\n",
    "rusa.chooseGosanke()"
   ]
  },
  {
   "cell_type": "markdown",
   "id": "c5a06725-777e-4872-a5f9-d9b794c4847c",
   "metadata": {},
   "source": [
    "<br>\n",
    "<h1>クラス変数とクラスメソッド</h1>"
   ]
  },
  {
   "cell_type": "code",
   "execution_count": 33,
   "id": "44607440-a7e5-4b81-8521-fa020d27f154",
   "metadata": {},
   "outputs": [
    {
     "name": "stdout",
     "output_type": "stream",
     "text": [
      "りんご\n",
      "スライム\n"
     ]
    }
   ],
   "source": [
    "class pico1:\n",
    "    apple = \"りんご\" #クラス変数\n",
    "    pine = \"パイン\" #クラス変数\n",
    "\n",
    "print(pico1.apple)\n",
    "\n",
    "pico1.pine = \"スライム\"\n",
    "print(pico1.pine)"
   ]
  },
  {
   "cell_type": "code",
   "execution_count": 36,
   "id": "439682eb-02ec-4535-ba1d-6cb803df1451",
   "metadata": {},
   "outputs": [
    {
     "name": "stdout",
     "output_type": "stream",
     "text": [
      "Apple Pineapple\n"
     ]
    }
   ],
   "source": [
    "class pico2:\n",
    "    apple = \"Apple\"\n",
    "    pine = \"Pineapple\"\n",
    "\n",
    "    @classmethod #この記述でクラスメソッド\n",
    "    def sayAP(cls): #clsはクラス自体\n",
    "        print(cls.apple, cls.pine)\n",
    "\n",
    "pico2.sayAP()"
   ]
  },
  {
   "cell_type": "code",
   "execution_count": 38,
   "id": "578bb85d-1221-4739-83de-a6d2d3525b83",
   "metadata": {},
   "outputs": [
    {
     "name": "stdout",
     "output_type": "stream",
     "text": [
      "札幌 仙台 東京 金沢\n",
      "名古屋 大阪 広島 松山 福岡\n"
     ]
    }
   ],
   "source": [
    "class japan_area:\n",
    "    hokkaido = \"札幌\"\n",
    "    tohoku = \"仙台\"\n",
    "    kanto = \"東京\"\n",
    "    hokuriku = \"金沢\"\n",
    "    chukyo = \"名古屋\"\n",
    "    kinki = \"大阪\"\n",
    "    chugoku = \"広島\"\n",
    "    shikoku = \"松山\"\n",
    "    kyushu = \"福岡\"\n",
    "\n",
    "print(japan_area.hokkaido, japan_area.tohoku, japan_area.kanto, japan_area.hokuriku)\n",
    "print(japan_area.chukyo, japan_area.kinki, japan_area.chugoku, japan_area.shikoku, japan_area.kyushu)"
   ]
  },
  {
   "cell_type": "code",
   "execution_count": 40,
   "id": "f3baa605-2e67-441b-a719-4e8e5af945f8",
   "metadata": {},
   "outputs": [
    {
     "name": "stdout",
     "output_type": "stream",
     "text": [
      "札幌\n",
      "広島\n",
      "福岡\n"
     ]
    }
   ],
   "source": [
    "class japan_area:\n",
    "    hokkaido = \"札幌\"\n",
    "    tohoku = \"仙台\"\n",
    "    kanto = \"東京\"\n",
    "    hokuriku = \"金沢\"\n",
    "    chukyo = \"名古屋\"\n",
    "    kinki = \"大阪\"\n",
    "    chugoku = \"広島\"\n",
    "    shikoku = \"松山\"\n",
    "    kyushu = \"福岡\"\n",
    "\n",
    "    @classmethod\n",
    "    def output_area(cls):\n",
    "        print(cls.hokkaido)\n",
    "        print(cls.chugoku)\n",
    "        print(cls.kyushu)\n",
    "\n",
    "japan_area.output_area()"
   ]
  },
  {
   "cell_type": "markdown",
   "id": "09170c91-f649-4db7-a3e1-2ac594513752",
   "metadata": {},
   "source": [
    "<br>\n",
    "<h1>クラス変数とインスタンス変数の組み合わせ</h1>"
   ]
  },
  {
   "cell_type": "code",
   "execution_count": 41,
   "id": "9e7b8263-29e3-428f-9d92-90a28c91ec69",
   "metadata": {},
   "outputs": [
    {
     "name": "stdout",
     "output_type": "stream",
     "text": [
      "りんご：青森\n"
     ]
    }
   ],
   "source": [
    "class pico1:\n",
    "    apple = \"りんご：青森\"\n",
    "    pine = \"パインアップル：沖縄\"\n",
    "\n",
    "p1 = pico1()\n",
    "print(p1.apple)"
   ]
  },
  {
   "cell_type": "code",
   "execution_count": 44,
   "id": "4fa7bc8a-7a1f-44af-a299-6da5b30298a9",
   "metadata": {},
   "outputs": [
    {
     "name": "stdout",
     "output_type": "stream",
     "text": [
      "さくらんぼ：山形\n",
      "りんご：青森\n"
     ]
    }
   ],
   "source": [
    "class pico2:\n",
    "    apple = \"りんご：青森\"\n",
    "    pine = \"パインアップル：沖縄\"\n",
    "\n",
    "p2 = pico2() #クラスのインスタンス化\n",
    "p2.apple = \"さくらんぼ：山形\" #インスタンス変数の値を変更\n",
    "print(p2.apple) #インスタンス変数にアクセス\n",
    "\n",
    "print(pico2.apple) #クラス変数にアクセス"
   ]
  },
  {
   "cell_type": "code",
   "execution_count": 48,
   "id": "2ceb550f-4789-4f84-b5c9-5ff86bc80114",
   "metadata": {},
   "outputs": [
    {
     "name": "stdout",
     "output_type": "stream",
     "text": [
      "I have 0 apples.\n",
      "I have 5 apples.\n"
     ]
    }
   ],
   "source": [
    "#応用\n",
    "class pico3:\n",
    "    fruits = \"apples\"\n",
    "    number = 0\n",
    "\n",
    "    def getFruits(self):\n",
    "        return \"I have \" + str(self.number) + \" \" + self.fruits + \".\"\n",
    "\n",
    "p3 = pico3()\n",
    "print(p3.getFruits())\n",
    "\n",
    "p3.number = 5\n",
    "print(p3.getFruits())"
   ]
  },
  {
   "cell_type": "code",
   "execution_count": 56,
   "id": "b0157e34-ed63-4bde-bcdd-62ee2f401b4e",
   "metadata": {},
   "outputs": [
    {
     "name": "stdout",
     "output_type": "stream",
     "text": [
      "岡山/高梁/津山/新見/\n",
      "倉敷/高梁/津山/新見/\n"
     ]
    }
   ],
   "source": [
    "#演習\n",
    "class okayama:\n",
    "    north_west = \"新見/\"\n",
    "    north_east = \"津山/\"\n",
    "    center = \"高梁/\"\n",
    "    south = \"岡山/\"\n",
    "\n",
    "    def getOkayama(self):\n",
    "        return self.south + self.center + self.north_east + self.north_west\n",
    "\n",
    "oka = okayama()\n",
    "print(oka.getOkayama())\n",
    "\n",
    "oka.south = \"倉敷/\"\n",
    "print(oka.getOkayama())"
   ]
  },
  {
   "cell_type": "markdown",
   "id": "25690270-0533-4c09-98c2-0e32684a58db",
   "metadata": {},
   "source": [
    "<br>\n",
    "<h1>クラスの継承</h1>"
   ]
  },
  {
   "cell_type": "code",
   "execution_count": 60,
   "id": "d72b1289-0628-4cfe-a5e5-cbf843c02b9b",
   "metadata": {},
   "outputs": [
    {
     "name": "stdout",
     "output_type": "stream",
     "text": [
      "brown\n",
      "一緒に遊ぼ！\n"
     ]
    }
   ],
   "source": [
    "class komugi: #クラスを設定\n",
    "    color = \"brown\"\n",
    "\n",
    "    def henshin(self):\n",
    "        print(\"一緒に遊ぼ！\")\n",
    "\n",
    "komugi = komugi()\n",
    "print(komugi.color)\n",
    "komugi.henshin()"
   ]
  },
  {
   "cell_type": "code",
   "execution_count": 66,
   "id": "c0af809a-ac13-48dd-81b0-87ea7b84db18",
   "metadata": {},
   "outputs": [
    {
     "name": "stdout",
     "output_type": "stream",
     "text": [
      "brown\n",
      "一緒に遊ぼ！\n",
      "こむぎ\n",
      "私の名前はこむぎだよ！\n"
     ]
    }
   ],
   "source": [
    "class papillon(komugi): #(komugi)でクラスの継承\n",
    "    name = \"こむぎ\" #新たにクラス変数追加\n",
    "\n",
    "    def sayName(self): #新たにメソッドを追加\n",
    "        print(\"私の名前は\" + self.name + \"だよ！\")\n",
    "\n",
    "papillon = papillon()\n",
    "\n",
    "print(papillon.color) #継承元の変数\n",
    "papillon.henshin() #継承元のメソッド\n",
    "\n",
    "print(papillon.name) #新たな変数\n",
    "papillon.sayName() #新たなメソッド"
   ]
  },
  {
   "cell_type": "code",
   "execution_count": 67,
   "id": "8ce16c80-ef38-4cdd-ace7-f27380aaa241",
   "metadata": {},
   "outputs": [
    {
     "name": "stdout",
     "output_type": "stream",
     "text": [
      "緑やくも\n",
      "振り子\n",
      "岡山～出雲市\n",
      "やくもブロンズ\n",
      "コンピューター制御付き振り子\n",
      "Pretender\n"
     ]
    }
   ],
   "source": [
    "class series381:\n",
    "    color = \"緑やくも\"\n",
    "    type = \"振り子\"\n",
    "\n",
    "    def running(self):\n",
    "        print(\"岡山～出雲市\")\n",
    "\n",
    "class series273(series381):\n",
    "    new_color = \"やくもブロンズ\"\n",
    "    new_type = \"コンピューター制御付き振り子\"\n",
    "\n",
    "    def music(self):\n",
    "        print(\"Pretender\")\n",
    "\n",
    "yakumo = series273()\n",
    "\n",
    "print(yakumo.color)\n",
    "print(yakumo.type)\n",
    "yakumo.running()\n",
    "\n",
    "print(yakumo.new_color)\n",
    "print(yakumo.new_type)\n",
    "yakumo.music()"
   ]
  },
  {
   "cell_type": "markdown",
   "id": "a55bf29e-8d41-462f-99d5-72e1e35b20a3",
   "metadata": {},
   "source": [
    "<br>\n",
    "<h1>特殊なメソッド</h1>"
   ]
  },
  {
   "cell_type": "code",
   "execution_count": 68,
   "id": "26900bd9-bc0e-4708-8c54-f2c520ad9897",
   "metadata": {},
   "outputs": [
    {
     "name": "stdout",
     "output_type": "stream",
     "text": [
      "私はペンを持っている\n"
     ]
    }
   ],
   "source": [
    "#__str__メソッド\n",
    "class pico1:\n",
    "    def __str__(self):\n",
    "        return \"私はペンを持っている\"\n",
    "\n",
    "p1 = pico1()\n",
    "print(str(p1))"
   ]
  },
  {
   "cell_type": "code",
   "execution_count": 70,
   "id": "a49cc945-2044-4cf9-91d4-eed7f8ffc2e3",
   "metadata": {},
   "outputs": [
    {
     "name": "stdout",
     "output_type": "stream",
     "text": [
      "ペンペンペンペンペン鉛筆鉛筆鉛筆\n"
     ]
    }
   ],
   "source": [
    "#__call__メソッド\n",
    "class pico2:\n",
    "    def __call__(self, p, a):\n",
    "        return p*5 + a*3\n",
    "\n",
    "p2 = pico2()\n",
    "print(p2(\"ペン\", \"鉛筆\"))"
   ]
  },
  {
   "cell_type": "code",
   "execution_count": 77,
   "id": "97c9c277-7744-4513-9a21-e7ce57037aa3",
   "metadata": {},
   "outputs": [
    {
     "ename": "NameError",
     "evalue": "name 'self' is not defined",
     "output_type": "error",
     "traceback": [
      "\u001b[1;31m---------------------------------------------------------------------------\u001b[0m",
      "\u001b[1;31mNameError\u001b[0m                                 Traceback (most recent call last)",
      "Cell \u001b[1;32mIn[77], line 15\u001b[0m\n\u001b[0;32m     11\u001b[0m         \u001b[38;5;28;01mreturn\u001b[39;00m class3 \u001b[38;5;241m+\u001b[39m class4\n\u001b[0;32m     13\u001b[0m contain \u001b[38;5;241m=\u001b[39m container()\n\u001b[1;32m---> 15\u001b[0m \u001b[38;5;28mprint\u001b[39m(contain(\u001b[38;5;28mself\u001b[39m\u001b[38;5;241m.\u001b[39mclass1, \u001b[38;5;28mself\u001b[39m\u001b[38;5;241m.\u001b[39mclass2))\n",
      "\u001b[1;31mNameError\u001b[0m: name 'self' is not defined"
     ]
    }
   ],
   "source": [
    "#演習\n",
    "class Container:\n",
    "    def __init__(self):\n",
    "        class1 = \"クラス１\"\n",
    "        class2 = \"クラス２\"\n",
    "        \n",
    "    def __str__(self):\n",
    "        return self.class1 + self.class2\n",
    "\n",
    "    def __call__(self, class3, class4):\n",
    "        return class3 + class4\n",
    "\n",
    "contain = container()\n",
    "print(str(contain))\n",
    "\n",
    "print(contain(self.class1, self.class2))"
   ]
  },
  {
   "cell_type": "code",
   "execution_count": 80,
   "id": "bd7898ff-4dba-4fda-940b-fa276fdf77ea",
   "metadata": {},
   "outputs": [
    {
     "name": "stdout",
     "output_type": "stream",
     "text": [
      "インナー1\n",
      "インナー2\n"
     ]
    }
   ],
   "source": [
    "class class1:\n",
    "    def inner1(self):\n",
    "        print(\"インナー1\")\n",
    "\n",
    "class class2(class1):\n",
    "    def inner2(self):\n",
    "        print(\"インナー2\")\n",
    "\n",
    "class3 = class2()\n",
    "class3.inner1()\n",
    "class3.inner2()"
   ]
  },
  {
   "cell_type": "code",
   "execution_count": null,
   "id": "035cbfab-fe47-4d7c-979c-4759b7c36085",
   "metadata": {},
   "outputs": [],
   "source": []
  }
 ],
 "metadata": {
  "kernelspec": {
   "display_name": "Python 3 (ipykernel)",
   "language": "python",
   "name": "python3"
  },
  "language_info": {
   "codemirror_mode": {
    "name": "ipython",
    "version": 3
   },
   "file_extension": ".py",
   "mimetype": "text/x-python",
   "name": "python",
   "nbconvert_exporter": "python",
   "pygments_lexer": "ipython3",
   "version": "3.12.4"
  }
 },
 "nbformat": 4,
 "nbformat_minor": 5
}
