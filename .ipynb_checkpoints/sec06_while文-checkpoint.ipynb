{
 "cells": [
  {
   "cell_type": "markdown",
   "id": "28929492-fcc2-46fb-925e-aeee11a972a2",
   "metadata": {},
   "source": [
    "# while文"
   ]
  },
  {
   "cell_type": "code",
   "execution_count": 1,
   "id": "6c83fcbc-5a61-4ade-b628-0b341cc4f60b",
   "metadata": {},
   "outputs": [
    {
     "name": "stdout",
     "output_type": "stream",
     "text": [
      "3\n",
      "6\n",
      "9\n",
      "12\n",
      "15\n"
     ]
    }
   ],
   "source": [
    "a = 0\n",
    "while a < 15:\n",
    "    a += 3\n",
    "    print(a)"
   ]
  },
  {
   "cell_type": "code",
   "execution_count": 3,
   "id": "13b52eb2-48b2-4c6c-8021-6114f0e5d7b4",
   "metadata": {},
   "outputs": [
    {
     "name": "stdout",
     "output_type": "stream",
     "text": [
      "bの値→ 5\n",
      "cの値→ 10\n",
      "bの値→ 10\n",
      "cの値→ 20\n",
      "bの値→ 15\n",
      "cの値→ 30\n",
      "bの値→ 20\n",
      "cの値→ 40\n",
      "bの値→ 25\n",
      "cの値→ 50\n",
      "bの値→ 30\n",
      "cの値→ 60\n",
      "bの値→ 35\n",
      "cの値→ 70\n",
      "bの値→ 40\n",
      "cの値→ 80\n",
      "bの値→ 45\n",
      "cの値→ 90\n",
      "bの値→ 50\n",
      "cの値→ 100\n",
      "bの値→ 55\n",
      "cの値→ 110\n",
      "bの値→ 60\n",
      "cの値→ 120\n",
      "bの値→ 65\n",
      "cの値→ 130\n",
      "bの値→ 70\n",
      "cの値→ 140\n",
      "bの値→ 75\n",
      "cの値→ 150\n",
      "bの値→ 80\n",
      "cの値→ 160\n",
      "bの値→ 85\n",
      "cの値→ 170\n",
      "bの値→ 90\n",
      "cの値→ 180\n",
      "bの値→ 95\n",
      "cの値→ 190\n",
      "bの値→ 100\n",
      "cの値→ 200\n"
     ]
    }
   ],
   "source": [
    "b = 0\n",
    "while b < 100:\n",
    "    b += 5\n",
    "    print(\"bの値→\" , b)\n",
    "    c = b * 2\n",
    "    print(\"cの値→\" , c)"
   ]
  },
  {
   "cell_type": "code",
   "execution_count": 4,
   "id": "d5811004-c20d-4275-b672-008a7ee0d28c",
   "metadata": {},
   "outputs": [
    {
     "name": "stdout",
     "output_type": "stream",
     "text": [
      "PPAP! PPAP! PPAP! PPAP! PPAP! \n"
     ]
    }
   ],
   "source": [
    "#演習\n",
    "pen = 0\n",
    "ppap = \"\"\n",
    "\n",
    "while pen < 15:\n",
    "    ppap += \"PPAP! \"\n",
    "    pen += 3\n",
    "\n",
    "print(ppap)"
   ]
  },
  {
   "cell_type": "code",
   "execution_count": 7,
   "id": "a7035bb4-2ed7-4f65-90cd-a7dd96993b9e",
   "metadata": {},
   "outputs": [
    {
     "name": "stdout",
     "output_type": "stream",
     "text": [
      "1\n",
      "2\n",
      "2\n",
      "4\n",
      "3\n",
      "6\n",
      "4\n",
      "8\n",
      "5\n",
      "10\n"
     ]
    }
   ],
   "source": [
    "list_a = [1, 2, 3, 4, 5]\n",
    "b = \"\"\n",
    "for a in list_a:\n",
    "    print(a)\n",
    "    if a <= 5:\n",
    "        b = a * 2\n",
    "        print(b)\n",
    "    else:\n",
    "        print(\"特に何もなし\")"
   ]
  },
  {
   "cell_type": "code",
   "execution_count": null,
   "id": "05a066fd-a689-4b0b-a8e6-ff3850ff7e18",
   "metadata": {},
   "outputs": [],
   "source": []
  }
 ],
 "metadata": {
  "kernelspec": {
   "display_name": "Python 3 (ipykernel)",
   "language": "python",
   "name": "python3"
  },
  "language_info": {
   "codemirror_mode": {
    "name": "ipython",
    "version": 3
   },
   "file_extension": ".py",
   "mimetype": "text/x-python",
   "name": "python",
   "nbconvert_exporter": "python",
   "pygments_lexer": "ipython3",
   "version": "3.12.4"
  }
 },
 "nbformat": 4,
 "nbformat_minor": 5
}
