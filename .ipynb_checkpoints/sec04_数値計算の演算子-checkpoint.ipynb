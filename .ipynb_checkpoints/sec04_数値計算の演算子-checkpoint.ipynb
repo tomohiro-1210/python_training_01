{
 "cells": [
  {
   "cell_type": "markdown",
   "id": "3d16a52a-031a-4f3d-9927-86a3c50427d6",
   "metadata": {},
   "source": [
    "数値計算の演算子"
   ]
  },
  {
   "cell_type": "code",
   "execution_count": 5,
   "id": "8de019e7-6034-4170-8448-7a69de8cf14f",
   "metadata": {},
   "outputs": [
    {
     "name": "stdout",
     "output_type": "stream",
     "text": [
      "足し算 10\n",
      "引き算 4\n",
      "掛け算 21\n",
      "割り算(少数) 3\n",
      "割り算(整数) 2\n",
      "あまりは 1\n",
      "乗算 343\n"
     ]
    }
   ],
   "source": [
    "a = 7\n",
    "b = 3\n",
    "\n",
    "plus = a + b\n",
    "print(\"足し算\" , plus)\n",
    "\n",
    "minus = a - b\n",
    "print(\"引き算\" , minus)\n",
    "\n",
    "c = a * b\n",
    "print(\"掛け算\" , c)\n",
    "\n",
    "d = a / b\n",
    "print(\"割り算(少数)\" , b)\n",
    "\n",
    "e = a // b\n",
    "print(\"割り算(整数)\" , e)\n",
    "\n",
    "f = a % b\n",
    "print(\"あまりは\" , f)\n",
    "\n",
    "g = a ** b\n",
    "print(\"乗算\" , g)"
   ]
  },
  {
   "cell_type": "code",
   "execution_count": 8,
   "id": "d73674a3-d584-462b-8016-698d8b619213",
   "metadata": {},
   "outputs": [
    {
     "name": "stdout",
     "output_type": "stream",
     "text": [
      "22\n",
      "8\n",
      "105\n",
      "2.142857142857143\n",
      "2\n",
      "1\n",
      "49\n",
      "225\n"
     ]
    }
   ],
   "source": [
    "#演習\n",
    "j = 15\n",
    "k = 7\n",
    "\n",
    "#足し算\n",
    "plus1 = j + k\n",
    "print(plus1)\n",
    "\n",
    "#引き算\n",
    "minus1 = j - k\n",
    "print(minus1)\n",
    "\n",
    "#掛け算\n",
    "l = j * k\n",
    "print(l)\n",
    "\n",
    "#割り算'(少数)\n",
    "m = j / k\n",
    "print(m)\n",
    "\n",
    "#割り算(整数)\n",
    "n = j // k\n",
    "print(n)\n",
    "\n",
    "#余り\n",
    "o = j % k\n",
    "print(o)\n",
    "\n",
    "#kの2乗\n",
    "p = k ** 2\n",
    "q = j ** 2\n",
    "print(p)\n",
    "print(q)"
   ]
  },
  {
   "cell_type": "code",
   "execution_count": null,
   "id": "f35d95df-d7ce-4254-9cba-af4beef719fc",
   "metadata": {},
   "outputs": [],
   "source": []
  }
 ],
 "metadata": {
  "kernelspec": {
   "display_name": "Python 3 (ipykernel)",
   "language": "python",
   "name": "python3"
  },
  "language_info": {
   "codemirror_mode": {
    "name": "ipython",
    "version": 3
   },
   "file_extension": ".py",
   "mimetype": "text/x-python",
   "name": "python",
   "nbconvert_exporter": "python",
   "pygments_lexer": "ipython3",
   "version": "3.12.4"
  }
 },
 "nbformat": 4,
 "nbformat_minor": 5
}
