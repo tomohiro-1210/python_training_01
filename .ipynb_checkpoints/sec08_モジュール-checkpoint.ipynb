{
 "cells": [
  {
   "cell_type": "markdown",
   "id": "4857ca65-a8a6-443d-827b-0b74689730c2",
   "metadata": {},
   "source": [
    "# モジュール"
   ]
  },
  {
   "cell_type": "code",
   "execution_count": 1,
   "id": "4e020e7c-4bff-4260-9fa2-64a54a030416",
   "metadata": {},
   "outputs": [
    {
     "name": "stdout",
     "output_type": "stream",
     "text": [
      "0.6690701919084601\n"
     ]
    }
   ],
   "source": [
    "import random\n",
    "print(random.random())"
   ]
  },
  {
   "cell_type": "code",
   "execution_count": 4,
   "id": "a551756f-62b7-4d7b-b93b-373eff4bca9b",
   "metadata": {},
   "outputs": [
    {
     "name": "stdout",
     "output_type": "stream",
     "text": [
      "Apple\n"
     ]
    },
    {
     "ename": "AttributeError",
     "evalue": "module 'test_module' has no attribute 'getTrain'",
     "output_type": "error",
     "traceback": [
      "\u001b[1;31m---------------------------------------------------------------------------\u001b[0m",
      "\u001b[1;31mAttributeError\u001b[0m                            Traceback (most recent call last)",
      "Cell \u001b[1;32mIn[4], line 3\u001b[0m\n\u001b[0;32m      1\u001b[0m \u001b[38;5;28;01mimport\u001b[39;00m \u001b[38;5;21;01mtest_module\u001b[39;00m\n\u001b[0;32m      2\u001b[0m \u001b[38;5;28mprint\u001b[39m(test_module\u001b[38;5;241m.\u001b[39mgetApple())\n\u001b[1;32m----> 3\u001b[0m \u001b[38;5;28mprint\u001b[39m(test_module\u001b[38;5;241m.\u001b[39mgetTrain())\n",
      "\u001b[1;31mAttributeError\u001b[0m: module 'test_module' has no attribute 'getTrain'"
     ]
    }
   ],
   "source": [
    "import test_module\n",
    "print(test_module.getApple())"
   ]
  },
  {
   "cell_type": "code",
   "execution_count": 5,
   "id": "a564caba-1331-49ed-9f23-71d5e5807178",
   "metadata": {},
   "outputs": [
    {
     "name": "stdout",
     "output_type": "stream",
     "text": [
      "Apple\n"
     ]
    }
   ],
   "source": [
    "#asを使うことでモジュールに別の名前を付けることができる\n",
    "import test_module as tm\n",
    "print(tm.getApple())"
   ]
  },
  {
   "cell_type": "code",
   "execution_count": 6,
   "id": "2db2cfb1-5493-4606-be39-6a327b84d394",
   "metadata": {},
   "outputs": [
    {
     "name": "stdout",
     "output_type": "stream",
     "text": [
      "Apple\n"
     ]
    }
   ],
   "source": [
    "from test_module import getApple\n",
    "print(getApple())"
   ]
  },
  {
   "cell_type": "code",
   "execution_count": null,
   "id": "1b385633-aec4-4430-9bf5-28a49d64ea44",
   "metadata": {},
   "outputs": [],
   "source": []
  }
 ],
 "metadata": {
  "kernelspec": {
   "display_name": "Python 3 (ipykernel)",
   "language": "python",
   "name": "python3"
  },
  "language_info": {
   "codemirror_mode": {
    "name": "ipython",
    "version": 3
   },
   "file_extension": ".py",
   "mimetype": "text/x-python",
   "name": "python",
   "nbconvert_exporter": "python",
   "pygments_lexer": "ipython3",
   "version": "3.12.4"
  }
 },
 "nbformat": 4,
 "nbformat_minor": 5
}
