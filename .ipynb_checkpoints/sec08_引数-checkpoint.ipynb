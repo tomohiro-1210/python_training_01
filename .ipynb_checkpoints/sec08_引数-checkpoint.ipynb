{
 "cells": [
  {
   "cell_type": "markdown",
   "id": "67f767c8-e2b7-45a5-8401-b205023972a8",
   "metadata": {},
   "source": [
    "# 引数"
   ]
  },
  {
   "cell_type": "code",
   "execution_count": 2,
   "id": "900b044c-3585-4bae-b418-a1c5fbed9677",
   "metadata": {},
   "outputs": [
    {
     "name": "stdout",
     "output_type": "stream",
     "text": [
      "ミミック ミミッキュ\n"
     ]
    }
   ],
   "source": [
    "def name(a, b):\n",
    "    print(a ,b)\n",
    "\n",
    "name(\"ミミック\", \"ミミッキュ\")"
   ]
  },
  {
   "cell_type": "code",
   "execution_count": 4,
   "id": "fc515fd8-82d4-43eb-b315-66dc4294fb56",
   "metadata": {},
   "outputs": [
    {
     "name": "stdout",
     "output_type": "stream",
     "text": [
      "ヘルガー キングレオ ロウガ\n"
     ]
    }
   ],
   "source": [
    "# 複数の引数を用いる例\n",
    "def add(pokemon, doragonquest, battlegirl):\n",
    "    total = pokemon + doragonquest + battlegirl\n",
    "    print(total)\n",
    "\n",
    "\n",
    "add(\"ヘルガー \" , \"キングレオ \", \"ロウガ\")"
   ]
  },
  {
   "cell_type": "code",
   "execution_count": 6,
   "id": "bc037ab2-93e3-4e3c-9bf1-5dfa32a2d783",
   "metadata": {},
   "outputs": [
    {
     "name": "stdout",
     "output_type": "stream",
     "text": [
      "I nave a pen. I have an apple. I have a pineapple.\n"
     ]
    }
   ],
   "source": [
    "#演習\n",
    "def sayPA(p, a, i):\n",
    "    pa = \"I nave a \" + p + \". \" + \"I have an \" + a + \". \" + \"I have a \" + i + \".\"\n",
    "    print(pa)\n",
    "\n",
    "pen = \"pen\"\n",
    "apple = \"apple\"\n",
    "pine = \"pineapple\"\n",
    "\n",
    "sayPA(pen, apple, pine)"
   ]
  },
  {
   "cell_type": "code",
   "execution_count": null,
   "id": "270ca977-d326-428b-8e8d-6f688d9a870c",
   "metadata": {},
   "outputs": [],
   "source": []
  }
 ],
 "metadata": {
  "kernelspec": {
   "display_name": "Python 3 (ipykernel)",
   "language": "python",
   "name": "python3"
  },
  "language_info": {
   "codemirror_mode": {
    "name": "ipython",
    "version": 3
   },
   "file_extension": ".py",
   "mimetype": "text/x-python",
   "name": "python",
   "nbconvert_exporter": "python",
   "pygments_lexer": "ipython3",
   "version": "3.12.4"
  }
 },
 "nbformat": 4,
 "nbformat_minor": 5
}
