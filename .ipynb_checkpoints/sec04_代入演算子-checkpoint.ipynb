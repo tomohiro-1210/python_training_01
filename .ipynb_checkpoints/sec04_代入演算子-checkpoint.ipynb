{
 "cells": [
  {
   "cell_type": "markdown",
   "id": "202b1401-13ee-4ee2-8df0-ed5824b1e16f",
   "metadata": {},
   "source": [
    "代入演算子"
   ]
  },
  {
   "cell_type": "code",
   "execution_count": 1,
   "id": "1eb15f3f-d3f3-4bd9-a63a-91b4999e727d",
   "metadata": {},
   "outputs": [
    {
     "name": "stdout",
     "output_type": "stream",
     "text": [
      "5\n"
     ]
    }
   ],
   "source": [
    "#代入する\n",
    "a = 5\n",
    "print(a)"
   ]
  },
  {
   "cell_type": "code",
   "execution_count": 7,
   "id": "5185ddee-c9de-4a2e-b0d6-8edf323d74d5",
   "metadata": {},
   "outputs": [
    {
     "name": "stdout",
     "output_type": "stream",
     "text": [
      "+= 10\n",
      "-= 4\n",
      "*= 21\n",
      "/= 2.3333333333333335\n",
      "//= 2\n",
      "%= 1\n",
      "**= 343\n"
     ]
    }
   ],
   "source": [
    "a= 7; b = 3\n",
    "#;で区切りをつけて１行で並べることもできる\n",
    "\n",
    "#足して代入する\n",
    "a += b\n",
    "print(\"+=\" , a)\n",
    "\n",
    "a= 7; b = 3\n",
    "#引いて代入する\n",
    "a -= b\n",
    "print(\"-=\", a)\n",
    "\n",
    "a= 7; b = 3\n",
    "#かけて代入する\n",
    "a *= b\n",
    "print(\"*=\", a)\n",
    "\n",
    "a= 7; b = 3\n",
    "#割って代入する(少数)\n",
    "a /= b\n",
    "print(\"/=\" , a)\n",
    "\n",
    "a= 7; b = 3\n",
    "#割って代入する(整数)\n",
    "a //= b\n",
    "print(\"//=\" , a)\n",
    "\n",
    "a= 7; b = 3\n",
    "#余りを代入する\n",
    "a %= b\n",
    "print(\"%=\" , a)\n",
    "\n",
    "a= 7; b = 3\n",
    "#べき乗を代入する\n",
    "a **= b\n",
    "print(\"**=\" , a)\n"
   ]
  },
  {
   "cell_type": "code",
   "execution_count": 8,
   "id": "8661a24a-2481-437b-86c2-4467987ec524",
   "metadata": {},
   "outputs": [
    {
     "name": "stdout",
     "output_type": "stream",
     "text": [
      "+= 11\n",
      "-= 7\n",
      "*= 18\n",
      "/= 4.5\n",
      "//= 4\n",
      "%= 1\n",
      "++= 81\n"
     ]
    }
   ],
   "source": [
    "#演習\n",
    "a= 9; b = 2\n",
    "#;で区切りをつけて１行で並べることもできる\n",
    "\n",
    "#足して代入する\n",
    "a += b\n",
    "print(\"+=\" , a)\n",
    "\n",
    "a= 9; b = 2\n",
    "#引いて代入する\n",
    "a -= b\n",
    "print(\"-=\", a)\n",
    "\n",
    "a= 9; b = 2\n",
    "#かけて代入する\n",
    "a *= b\n",
    "print(\"*=\", a)\n",
    "\n",
    "a= 9; b = 2\n",
    "#割って代入する(少数)\n",
    "a /= b\n",
    "print(\"/=\" , a)\n",
    "\n",
    "a= 9; b = 2\n",
    "#割って代入する(整数)\n",
    "a //= b\n",
    "print(\"//=\" , a)\n",
    "\n",
    "a= 9; b = 2\n",
    "#余りを代入する\n",
    "a %= b\n",
    "print(\"%=\" , a)\n",
    "\n",
    "a= 9; b = 2\n",
    "#べき乗を代入する\n",
    "a **= b\n",
    "print(\"++=\" , a)"
   ]
  },
  {
   "cell_type": "code",
   "execution_count": null,
   "id": "61b3c458-8951-45a6-ab11-535fd23097a1",
   "metadata": {},
   "outputs": [],
   "source": []
  }
 ],
 "metadata": {
  "kernelspec": {
   "display_name": "Python 3 (ipykernel)",
   "language": "python",
   "name": "python3"
  },
  "language_info": {
   "codemirror_mode": {
    "name": "ipython",
    "version": 3
   },
   "file_extension": ".py",
   "mimetype": "text/x-python",
   "name": "python",
   "nbconvert_exporter": "python",
   "pygments_lexer": "ipython3",
   "version": "3.12.4"
  }
 },
 "nbformat": 4,
 "nbformat_minor": 5
}
