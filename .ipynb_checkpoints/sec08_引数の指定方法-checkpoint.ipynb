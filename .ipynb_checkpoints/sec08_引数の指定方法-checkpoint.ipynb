{
 "cells": [
  {
   "cell_type": "markdown",
   "id": "290df60c-4bca-4222-a65e-cddd77f74b1b",
   "metadata": {},
   "source": [
    "# 引数の指定方法"
   ]
  },
  {
   "cell_type": "code",
   "execution_count": 2,
   "id": "34b14b56-8b2d-42c9-a0da-fc85a51a9943",
   "metadata": {},
   "outputs": [
    {
     "name": "stdout",
     "output_type": "stream",
     "text": [
      "5\n"
     ]
    }
   ],
   "source": [
    "#引数の指定方法\n",
    "def subtract(a , b, c):\n",
    "    d = a - b - c\n",
    "    return d\n",
    "\n",
    "result = subtract(b = 3, c = 4, a = 12)\n",
    "print(result)"
   ]
  },
  {
   "cell_type": "code",
   "execution_count": 5,
   "id": "9fcfbfa1-2e2d-404f-9ad6-27acb39ea41e",
   "metadata": {},
   "outputs": [
    {
     "name": "stdout",
     "output_type": "stream",
     "text": [
      "キングスライム ミミック ファンキーバード やまたのおろち \n"
     ]
    }
   ],
   "source": [
    "def monsterParty(monster_a, monster_b, monster_c, monster_d):\n",
    "    party = monster_a + monster_b + monster_c + monster_d\n",
    "    return party\n",
    "\n",
    "party_setA = monsterParty(monster_b = \"ミミック \", monster_d = \"やまたのおろち \", monster_a = \"キングスライム \", monster_c = \"ファンキーバード \")\n",
    "print(party_setA)"
   ]
  },
  {
   "cell_type": "code",
   "execution_count": 7,
   "id": "ad2805ff-0abf-4029-ba95-e59b5507d460",
   "metadata": {},
   "outputs": [
    {
     "name": "stdout",
     "output_type": "stream",
     "text": [
      "8\n",
      "9\n"
     ]
    }
   ],
   "source": [
    "#関数側にデフォルトの値を指定した場合\n",
    "def add(a, b=5):\n",
    "    c = a + b\n",
    "    return c\n",
    "\n",
    "result1 = add(3)\n",
    "print(result1)\n",
    "\n",
    "result2 = add(3, 6)\n",
    "print(result2)"
   ]
  },
  {
   "cell_type": "code",
   "execution_count": 13,
   "id": "1c9e67b3-2c04-4a34-b06b-478a93264846",
   "metadata": {},
   "outputs": [
    {
     "name": "stdout",
     "output_type": "stream",
     "text": [
      "SharpPencil/Pen/Pencil/SharpPencil/Magic/Pencil/\n"
     ]
    }
   ],
   "source": [
    "#演習\n",
    "def makePP(a, b, c, d = \"Magic/\"):\n",
    "    p = a + b + c + a + d + c\n",
    "    return p\n",
    "\n",
    "pp = makePP(b = \"Pen/\", c = \"Pencil/\", a = \"SharpPencil/\")\n",
    "print(pp)"
   ]
  },
  {
   "cell_type": "code",
   "execution_count": null,
   "id": "864aaaff-0452-434c-97e7-e21215919c09",
   "metadata": {},
   "outputs": [],
   "source": []
  }
 ],
 "metadata": {
  "kernelspec": {
   "display_name": "Python 3 (ipykernel)",
   "language": "python",
   "name": "python3"
  },
  "language_info": {
   "codemirror_mode": {
    "name": "ipython",
    "version": 3
   },
   "file_extension": ".py",
   "mimetype": "text/x-python",
   "name": "python",
   "nbconvert_exporter": "python",
   "pygments_lexer": "ipython3",
   "version": "3.12.4"
  }
 },
 "nbformat": 4,
 "nbformat_minor": 5
}
