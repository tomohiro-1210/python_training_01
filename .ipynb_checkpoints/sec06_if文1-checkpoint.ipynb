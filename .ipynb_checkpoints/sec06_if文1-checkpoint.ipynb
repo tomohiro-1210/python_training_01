{
 "cells": [
  {
   "cell_type": "markdown",
   "id": "a58d4a0a-a64b-4534-bc32-44d156291553",
   "metadata": {},
   "source": [
    "# if文1\n"
   ]
  },
  {
   "cell_type": "code",
   "execution_count": 5,
   "id": "a3d1700b-10fe-4268-9745-221729ed8a2f",
   "metadata": {},
   "outputs": [
    {
     "name": "stdout",
     "output_type": "stream",
     "text": [
      "200\n"
     ]
    }
   ],
   "source": [
    "#条件分岐の例\n",
    "a = 10\n",
    "b = 0\n",
    "\n",
    "if a <= 10:\n",
    "    b = 200\n",
    "    print(b)"
   ]
  },
  {
   "cell_type": "code",
   "execution_count": 7,
   "id": "fb4f64cd-bfc0-4af2-9411-4f3539947d6e",
   "metadata": {},
   "outputs": [
    {
     "name": "stdout",
     "output_type": "stream",
     "text": [
      "100\n",
      "0\n"
     ]
    }
   ],
   "source": [
    "#elseを用いた処理\n",
    "a = 9\n",
    "b = 0\n",
    "c = 10\n",
    "\n",
    "if a < 10:\n",
    "    b = 100\n",
    "    c = 0\n",
    "else:\n",
    "    b = 50\n",
    "    c = 50\n",
    "\n",
    "#if文の終わりは一行空ける\n",
    "print(b)\n",
    "print(c)"
   ]
  },
  {
   "cell_type": "code",
   "execution_count": 12,
   "id": "b2d81c73-c325-4469-9036-61e053b33926",
   "metadata": {},
   "outputs": [
    {
     "name": "stdout",
     "output_type": "stream",
     "text": [
      "10\n"
     ]
    }
   ],
   "source": [
    "#elifで分岐の数を増やせる\n",
    "list_a = [1, 2, 3, 4, 5, 6, 7, 8, 9, 10]\n",
    "solo_a = list_a[1]\n",
    "a = 0\n",
    "\n",
    "if solo_a <= 5:\n",
    "    a = 10\n",
    "elif solo_a <= 7:\n",
    "    a = 20\n",
    "elif solo_a <= 10:\n",
    "    a = 30\n",
    "else:\n",
    "    a = 40\n",
    "\n",
    "print(a)"
   ]
  },
  {
   "cell_type": "code",
   "execution_count": 14,
   "id": "1f1cf0f0-4f66-4aa6-ab9d-ce8026bfcf37",
   "metadata": {},
   "outputs": [
    {
     "name": "stdout",
     "output_type": "stream",
     "text": [
      "なんと宝箱はパンドラボックスだった！\n"
     ]
    }
   ],
   "source": [
    "#演習\n",
    "pen = 100\n",
    "\n",
    "if pen < 20:\n",
    "    print(\"なんと宝箱はひとくいばこだった！\")\n",
    "elif pen < 30:\n",
    "    print(\"なんと宝箱はミミックだった！\")\n",
    "else:\n",
    "    print(\"なんと宝箱はパンドラボックスだった！\")"
   ]
  },
  {
   "cell_type": "code",
   "execution_count": null,
   "id": "833f7aea-4b1c-4d41-aa20-2aa6a6c04ee8",
   "metadata": {},
   "outputs": [],
   "source": []
  }
 ],
 "metadata": {
  "kernelspec": {
   "display_name": "Python 3 (ipykernel)",
   "language": "python",
   "name": "python3"
  },
  "language_info": {
   "codemirror_mode": {
    "name": "ipython",
    "version": 3
   },
   "file_extension": ".py",
   "mimetype": "text/x-python",
   "name": "python",
   "nbconvert_exporter": "python",
   "pygments_lexer": "ipython3",
   "version": "3.12.4"
  }
 },
 "nbformat": 4,
 "nbformat_minor": 5
}
