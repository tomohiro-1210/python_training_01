{
 "cells": [
  {
   "cell_type": "markdown",
   "id": "c4cb60ec-01bb-4cf3-aee5-8616b88e254d",
   "metadata": {},
   "source": [
    "# リストの操作1\n"
   ]
  },
  {
   "cell_type": "code",
   "execution_count": 1,
   "id": "6d3375f3-a2cc-4973-8387-0859841cf680",
   "metadata": {},
   "outputs": [
    {
     "name": "stdout",
     "output_type": "stream",
     "text": [
      "[1, 2, 3, 4, 5]\n"
     ]
    }
   ],
   "source": [
    "#リスト\n",
    "a = [1, 2 ,3 , 4 ,5]\n",
    "print(a)"
   ]
  },
  {
   "cell_type": "code",
   "execution_count": 7,
   "id": "9fc6775d-3600-43d7-87c7-a96b39cb868f",
   "metadata": {},
   "outputs": [
    {
     "name": "stdout",
     "output_type": "stream",
     "text": [
      "['クロ683-8001', 'サハ682-8002', 'モハ683-8001', 'サハ683-8301', 'サハ682-8001', 'クモハ683-8501']\n",
      "サハ682-8002\n"
     ]
    }
   ],
   "source": [
    "a03 = [\"クロ683-8001\", \"サハ682-8002\", \"モハ683-8001\", \"サハ683-8301\", \"サハ682-8001\", \"クモハ683-8501\",]\n",
    "print(a03)\n",
    "num = 1\n",
    "print(a03[num])"
   ]
  },
  {
   "cell_type": "code",
   "execution_count": 11,
   "id": "74f51f47-48b7-42b6-954e-0729d9e2d3eb",
   "metadata": {},
   "outputs": [
    {
     "name": "stdout",
     "output_type": "stream",
     "text": [
      "['クロ683-8001', 'サハ682-8002', 'モハ683-8501', 'サハ683-8301', 'サハ682-8001', 'クモハ683-8501']\n"
     ]
    }
   ],
   "source": [
    "#要素の置き換え\n",
    "n03 = [\"クロ683-8001\", \"サハ682-8002\", \"モハ683-8001\", \"サハ683-8301\", \"サハ682-8001\", \"クモハ683-8501\",]\n",
    "n03[2] = \"モハ683-8501\"\n",
    "print(n03)"
   ]
  },
  {
   "cell_type": "code",
   "execution_count": 12,
   "id": "a5453277-918c-48e3-a9af-7ca1d6381c8d",
   "metadata": {},
   "outputs": [
    {
     "name": "stdout",
     "output_type": "stream",
     "text": [
      "[1, 2, 3, 4, 5, 6]\n"
     ]
    }
   ],
   "source": [
    "#リストに要素の追加\n",
    "a = [1, 2 ,3 , 4 ,5]\n",
    "a.append(6) #jsにも同様のコードがある\n",
    "print(a)"
   ]
  },
  {
   "cell_type": "code",
   "execution_count": 14,
   "id": "69b3f37f-ece8-4014-b811-af956637367c",
   "metadata": {},
   "outputs": [
    {
     "name": "stdout",
     "output_type": "stream",
     "text": [
      "[1, 2, 3, 4, 5, 6, 7, 8, 9, 10]\n"
     ]
    }
   ],
   "source": [
    "#リストの結合\n",
    "a = [1, 2 ,3 , 4 ,5]\n",
    "b = a + [6, 7 , 8 , 9 , 10]\n",
    "print(b)"
   ]
  },
  {
   "cell_type": "code",
   "execution_count": 16,
   "id": "8ba7e69d-80a0-464c-9115-773a7f8104e3",
   "metadata": {},
   "outputs": [
    {
     "name": "stdout",
     "output_type": "stream",
     "text": [
      "[1, 2, 12, 4, 5, 6, 7, 1, 2, 3]\n"
     ]
    }
   ],
   "source": [
    "#演習\n",
    "pens = [1, 2, 3]\n",
    "apples = [4 ,5]\n",
    "pines = [6 ,7]\n",
    "\n",
    "prap = pens + apples + pines + pens\n",
    "\n",
    "prap[2] = 12\n",
    "print(prap)"
   ]
  },
  {
   "cell_type": "code",
   "execution_count": null,
   "id": "9c3ab207-86e3-4b99-88b8-8d7ab335f9b8",
   "metadata": {},
   "outputs": [],
   "source": []
  }
 ],
 "metadata": {
  "kernelspec": {
   "display_name": "Python 3 (ipykernel)",
   "language": "python",
   "name": "python3"
  },
  "language_info": {
   "codemirror_mode": {
    "name": "ipython",
    "version": 3
   },
   "file_extension": ".py",
   "mimetype": "text/x-python",
   "name": "python",
   "nbconvert_exporter": "python",
   "pygments_lexer": "ipython3",
   "version": "3.12.4"
  }
 },
 "nbformat": 4,
 "nbformat_minor": 5
}
