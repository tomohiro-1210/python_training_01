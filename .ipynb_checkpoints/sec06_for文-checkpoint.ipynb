{
 "cells": [
  {
   "cell_type": "markdown",
   "id": "8196c88b-be65-46cb-a222-313e867e2d58",
   "metadata": {},
   "source": [
    "# for文"
   ]
  },
  {
   "cell_type": "code",
   "execution_count": 2,
   "id": "517c182d-ac01-4b2e-a483-1216a4d6c49f",
   "metadata": {},
   "outputs": [
    {
     "name": "stdout",
     "output_type": "stream",
     "text": [
      "1\n",
      "2\n",
      "4\n",
      "7\n",
      "10\n"
     ]
    }
   ],
   "source": [
    "a = [1 ,2, 4, 7, 10]\n",
    "for b in a:\n",
    "    print(b)"
   ]
  },
  {
   "cell_type": "code",
   "execution_count": 3,
   "id": "1277052a-8fba-47b5-b7c5-55c4c3dda2e5",
   "metadata": {},
   "outputs": [
    {
     "name": "stdout",
     "output_type": "stream",
     "text": [
      "0\n",
      "1\n",
      "2\n",
      "3\n",
      "4\n",
      "5\n",
      "6\n",
      "7\n",
      "8\n"
     ]
    }
   ],
   "source": [
    "#rangeを用いた繰り返し処理\n",
    "for a in range(9):\n",
    "    print(a)"
   ]
  },
  {
   "cell_type": "code",
   "execution_count": 4,
   "id": "df51efcc-2cc8-40e2-87f3-628501f19c73",
   "metadata": {},
   "outputs": [
    {
     "name": "stdout",
     "output_type": "stream",
     "text": [
      "0\n",
      "2\n",
      "4\n",
      "6\n",
      "8\n",
      "10\n",
      "12\n",
      "14\n",
      "16\n",
      "18\n"
     ]
    }
   ],
   "source": [
    "for b in range(10):\n",
    "    c = b * 2\n",
    "    print(c)"
   ]
  },
  {
   "cell_type": "code",
   "execution_count": 7,
   "id": "7d86a4ad-9ae1-433a-b86b-e26a03ae9370",
   "metadata": {},
   "outputs": [
    {
     "name": "stdout",
     "output_type": "stream",
     "text": [
      "10\n",
      "13\n",
      "16\n",
      "19\n",
      "22\n",
      "25\n",
      "28\n",
      "31\n",
      "34\n",
      "37\n",
      "40\n",
      "43\n",
      "46\n",
      "49\n",
      "52\n",
      "55\n",
      "58\n",
      "61\n",
      "64\n",
      "67\n",
      "70\n",
      "73\n",
      "76\n",
      "79\n",
      "82\n",
      "85\n",
      "88\n",
      "91\n",
      "94\n",
      "97\n"
     ]
    }
   ],
   "source": [
    "#range()では開始値や終了値、ステップを指定することができる\n",
    "for a in range(10, 100, 3):\n",
    "#第一引数で開始値、第二引数で終了値、第三引数でステップが入る\n",
    "    print(a)"
   ]
  },
  {
   "cell_type": "code",
   "execution_count": 11,
   "id": "5bd622c4-13aa-4991-9489-e78d07525a71",
   "metadata": {},
   "outputs": [
    {
     "name": "stdout",
     "output_type": "stream",
     "text": [
      "[0, 20, 40, 60, 80]\n",
      "40\n",
      "False\n"
     ]
    }
   ],
   "source": [
    "#rangeでリストも作れる\n",
    "list_a = list(range(0, 100, 20))\n",
    "print(list_a)\n",
    "\n",
    "print(list_a[2])\n",
    "if list_a[2] == 20:\n",
    "    print(\"True\")\n",
    "else:\n",
    "    print(\"False\")"
   ]
  },
  {
   "cell_type": "code",
   "execution_count": 19,
   "id": "15dfe019-16a4-479f-912f-32789ed41e90",
   "metadata": {},
   "outputs": [
    {
     "name": "stdout",
     "output_type": "stream",
     "text": [
      "Pen Pen Pineapple Pineapple Apple Apple Pen Pen !\n"
     ]
    }
   ],
   "source": [
    "#演習\n",
    "ppap = [\"Pen \", \"Pineapple \", \"Apple \", \"Pen \"]\n",
    "ppapText = \"\"\n",
    "\n",
    "for p in ppap:\n",
    "    ppapText += p * 2\n",
    "\n",
    "ppapText += \"!\"\n",
    "print(ppapText)"
   ]
  },
  {
   "cell_type": "code",
   "execution_count": null,
   "id": "8a2e73df-75b8-4845-9784-14f7b0a84e26",
   "metadata": {},
   "outputs": [],
   "source": []
  }
 ],
 "metadata": {
  "kernelspec": {
   "display_name": "Python 3 (ipykernel)",
   "language": "python",
   "name": "python3"
  },
  "language_info": {
   "codemirror_mode": {
    "name": "ipython",
    "version": 3
   },
   "file_extension": ".py",
   "mimetype": "text/x-python",
   "name": "python",
   "nbconvert_exporter": "python",
   "pygments_lexer": "ipython3",
   "version": "3.12.4"
  }
 },
 "nbformat": 4,
 "nbformat_minor": 5
}
