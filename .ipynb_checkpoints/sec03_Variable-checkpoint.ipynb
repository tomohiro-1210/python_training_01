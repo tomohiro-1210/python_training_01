{
 "cells": [
  {
   "cell_type": "code",
   "execution_count": 8,
   "id": "4e7a8263-453a-4a21-87b7-020d8508d290",
   "metadata": {},
   "outputs": [
    {
     "name": "stdout",
     "output_type": "stream",
     "text": [
      "123\n"
     ]
    }
   ],
   "source": [
    "a = 123\n",
    "print(a)"
   ]
  },
  {
   "cell_type": "code",
   "execution_count": 9,
   "id": "9d77df16-a23f-4cd7-8c52-dc8fac86bf39",
   "metadata": {},
   "outputs": [
    {
     "name": "stdout",
     "output_type": "stream",
     "text": [
      "3\n"
     ]
    }
   ],
   "source": [
    "a = 1\n",
    "b = 2\n",
    "print(a + b)"
   ]
  },
  {
   "cell_type": "code",
   "execution_count": 10,
   "id": "e5ac5fa1-7b8b-4c9d-9a37-b7307af1ec4b",
   "metadata": {},
   "outputs": [
    {
     "name": "stdout",
     "output_type": "stream",
     "text": [
      "Python programming!!\n"
     ]
    }
   ],
   "source": [
    "a = 123.456\n",
    "b = \"Python programming!!\"\n",
    "print(b)"
   ]
  },
  {
   "cell_type": "code",
   "execution_count": 11,
   "id": "87dd81ff-730a-4f4f-8a00-c83b31fcb20a",
   "metadata": {},
   "outputs": [
    {
     "name": "stdout",
     "output_type": "stream",
     "text": [
      "3210\n",
      "123456\n"
     ]
    }
   ],
   "source": [
    "#変数名には複数の文字や数字を使うことができる\n",
    "pico0123 = 3210\n",
    "print(pico0123)\n",
    "\n",
    "i_have = 123456\n",
    "print(i_have)"
   ]
  },
  {
   "cell_type": "code",
   "execution_count": 12,
   "id": "76c57739-ee38-467c-828b-626f7f0975ac",
   "metadata": {},
   "outputs": [
    {
     "name": "stdout",
     "output_type": "stream",
     "text": [
      "ペン\n",
      "青森\n",
      "キュアパイナップル\n"
     ]
    }
   ],
   "source": [
    "#演習\n",
    "pen = \"ペン\"\n",
    "print(pen)\n",
    "apple = \"青森\"\n",
    "print(apple)\n",
    "pineapple = \"キュアパイナップル\"\n",
    "print(pineapple)"
   ]
  },
  {
   "cell_type": "code",
   "execution_count": null,
   "id": "fa7b6768-bdee-461b-abdb-ead70f7f75da",
   "metadata": {},
   "outputs": [],
   "source": []
  }
 ],
 "metadata": {
  "kernelspec": {
   "display_name": "Python 3 (ipykernel)",
   "language": "python",
   "name": "python3"
  },
  "language_info": {
   "codemirror_mode": {
    "name": "ipython",
    "version": 3
   },
   "file_extension": ".py",
   "mimetype": "text/x-python",
   "name": "python",
   "nbconvert_exporter": "python",
   "pygments_lexer": "ipython3",
   "version": "3.12.4"
  }
 },
 "nbformat": 4,
 "nbformat_minor": 5
}
