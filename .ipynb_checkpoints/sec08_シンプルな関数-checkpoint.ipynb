{
 "cells": [
  {
   "cell_type": "markdown",
   "id": "7cba1596-3e89-4212-94e7-3fc108fb6d9a",
   "metadata": {},
   "source": [
    "# シンプルな関数"
   ]
  },
  {
   "cell_type": "code",
   "execution_count": 1,
   "id": "110532e8-5e1c-4c01-a149-06353db1859c",
   "metadata": {},
   "outputs": [],
   "source": [
    "def ltdExp():\n",
    "    print(\"特急モーニングexp高松\")\n"
   ]
  },
  {
   "cell_type": "code",
   "execution_count": 6,
   "id": "f8ce4571-f864-497d-a906-f940adfd39c9",
   "metadata": {},
   "outputs": [
    {
     "name": "stdout",
     "output_type": "stream",
     "text": [
      "特急モーニングexp高松\n",
      "特急モーニングexp高松\n",
      "特急モーニングexp高松\n"
     ]
    }
   ],
   "source": [
    "ltdExp()\n",
    "ltdExp()\n",
    "ltdExp()"
   ]
  },
  {
   "cell_type": "code",
   "execution_count": 17,
   "id": "ebc51240-d561-4253-8664-a50985f2828d",
   "metadata": {},
   "outputs": [],
   "source": [
    "def length():\n",
    "    length_a = [\"ドラゴン\", \"キースドラゴン\", \"スカイドラゴン\", \"しんりゅう\", \"竜王\", \"マスタードラゴン\"]\n",
    "    length_b = [\"チルタリス\", \"フライゴン\", \"ボーマンダ\" ,\"カイリュー\", \"レックウザ\"]\n",
    "    print(length_a)\n",
    "    print(length_b)"
   ]
  },
  {
   "cell_type": "code",
   "execution_count": 18,
   "id": "87f6d544-c556-4386-8912-ee99f782ba3b",
   "metadata": {},
   "outputs": [
    {
     "name": "stdout",
     "output_type": "stream",
     "text": [
      "['ドラゴン', 'キースドラゴン', 'スカイドラゴン', 'しんりゅう', '竜王', 'マスタードラゴン']\n",
      "['チルタリス', 'フライゴン', 'ボーマンダ', 'カイリュー', 'レックウザ']\n"
     ]
    }
   ],
   "source": [
    "length()"
   ]
  },
  {
   "cell_type": "code",
   "execution_count": null,
   "id": "03f116cb-8de5-45d1-b110-4ba8414da2b0",
   "metadata": {},
   "outputs": [],
   "source": []
  },
  {
   "cell_type": "code",
   "execution_count": null,
   "id": "498b7288-0cb5-4ad2-9c84-a06b0e3833d5",
   "metadata": {},
   "outputs": [],
   "source": []
  },
  {
   "cell_type": "code",
   "execution_count": null,
   "id": "651b22ff-3abc-4570-a8d2-2a8a486a4c3b",
   "metadata": {},
   "outputs": [],
   "source": []
  }
 ],
 "metadata": {
  "kernelspec": {
   "display_name": "Python 3 (ipykernel)",
   "language": "python",
   "name": "python3"
  },
  "language_info": {
   "codemirror_mode": {
    "name": "ipython",
    "version": 3
   },
   "file_extension": ".py",
   "mimetype": "text/x-python",
   "name": "python",
   "nbconvert_exporter": "python",
   "pygments_lexer": "ipython3",
   "version": "3.12.4"
  }
 },
 "nbformat": 4,
 "nbformat_minor": 5
}
