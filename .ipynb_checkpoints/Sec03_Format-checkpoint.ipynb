{
 "cells": [
  {
   "cell_type": "code",
   "execution_count": 8,
   "id": "5367d68d-c738-444d-a8c2-89fa943ebcd1",
   "metadata": {},
   "outputs": [
    {
     "name": "stdout",
     "output_type": "stream",
     "text": [
      "683系０番台は6両編成、485系ライチョウは9両編成になります。\n"
     ]
    }
   ],
   "source": [
    "a = 6\n",
    "b = 9\n",
    "train = \"683系０番台は{}両編成、485系ライチョウは{}両編成になります。\".format(a, b)\n",
    "print(train)"
   ]
  },
  {
   "cell_type": "code",
   "execution_count": 9,
   "id": "028f0e6a-c1b4-4c7a-89bb-852d841a79d8",
   "metadata": {},
   "outputs": [
    {
     "name": "stdout",
     "output_type": "stream",
     "text": [
      "<class 'int'>\n",
      "<class 'int'>\n",
      "<class 'str'>\n"
     ]
    }
   ],
   "source": [
    "#型の判別\n",
    "print(type(a))\n",
    "print(type(b))\n",
    "print(type(train))"
   ]
  },
  {
   "cell_type": "code",
   "execution_count": 10,
   "id": "456a8307-1e05-4be4-afb5-cce32d89bd5b",
   "metadata": {},
   "outputs": [
    {
     "name": "stdout",
     "output_type": "stream",
     "text": [
      "このペンは長さが8.1200cm、重さが5.200gです\n"
     ]
    }
   ],
   "source": [
    "l = 8.12\n",
    "w = 5.2 \n",
    "m = \"このペンは長さが{:.4f}cm、重さが{:.3f}gです\".format(l, w)\n",
    "print(m)"
   ]
  },
  {
   "cell_type": "code",
   "execution_count": 11,
   "id": "0f704983-41dd-43d9-88e0-32e16f4000e2",
   "metadata": {},
   "outputs": [
    {
     "name": "stdout",
     "output_type": "stream",
     "text": [
      "<class 'float'>\n",
      "<class 'float'>\n",
      "<class 'str'>\n"
     ]
    }
   ],
   "source": [
    "#型の判別\n",
    "print(type(l))\n",
    "print(type(w))\n",
    "print(type(m))"
   ]
  },
  {
   "cell_type": "code",
   "execution_count": 12,
   "id": "80a271b7-fbb2-4c0a-9857-cc88d33ce197",
   "metadata": {},
   "outputs": [
    {
     "name": "stdout",
     "output_type": "stream",
     "text": [
      "重さが6.20gのペンを7本持っています\n"
     ]
    }
   ],
   "source": [
    "#演習\n",
    "pw = 6.2\n",
    "pn = 7\n",
    "m = \"重さが{:.2f}gのペンを{}本持っています\".format(pw, pn)\n",
    "print(m)"
   ]
  },
  {
   "cell_type": "markdown",
   "id": "723e35f8-0adb-4499-a3dc-968ee76d9341",
   "metadata": {},
   "source": [
    "#型の判別\n",
    "print(type(pw)) #floatは少数\n",
    "print(type(pn)) #intは整数\n",
    "print(type(m)) #strは文字列・String"
   ]
  },
  {
   "cell_type": "markdown",
   "id": "6ab9b392-5883-437a-90e0-60cb7ab8a88d",
   "metadata": {},
   "source": [
    "マークダウンはCodeからMarkdownを選択してくださいね。"
   ]
  },
  {
   "cell_type": "markdown",
   "id": "5ed37bec-99e1-4548-b6b8-a3f4fe7ff794",
   "metadata": {},
   "source": [
    "# シャープを１つ使うとこうなる\n",
    "## シャープを２つ使うとこうなる\n",
    "### シャープを３つ使うとこうなる\n",
    "* リスト１\n",
    "* リスト２\n",
    "* リスト３"
   ]
  },
  {
   "cell_type": "code",
   "execution_count": null,
   "id": "2fd730df-3450-479d-828c-fccb19cadd7b",
   "metadata": {},
   "outputs": [],
   "source": []
  },
  {
   "cell_type": "code",
   "execution_count": null,
   "id": "39c5d773-ab30-4cc8-9fff-8c60a48f3867",
   "metadata": {},
   "outputs": [],
   "source": []
  }
 ],
 "metadata": {
  "kernelspec": {
   "display_name": "Python 3 (ipykernel)",
   "language": "python",
   "name": "python3"
  },
  "language_info": {
   "codemirror_mode": {
    "name": "ipython",
    "version": 3
   },
   "file_extension": ".py",
   "mimetype": "text/x-python",
   "name": "python",
   "nbconvert_exporter": "python",
   "pygments_lexer": "ipython3",
   "version": "3.12.4"
  }
 },
 "nbformat": 4,
 "nbformat_minor": 5
}
