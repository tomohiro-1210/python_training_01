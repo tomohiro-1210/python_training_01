{
 "cells": [
  {
   "cell_type": "markdown",
   "id": "69f38e6a-efb7-44af-b8bf-45af1b552265",
   "metadata": {},
   "source": [
    "# 内包表記"
   ]
  },
  {
   "cell_type": "code",
   "execution_count": 4,
   "id": "08d64ad1-d1b5-4975-9bc8-604fec56e122",
   "metadata": {},
   "outputs": [
    {
     "name": "stdout",
     "output_type": "stream",
     "text": [
      "[1, 2, 3, 4, 5, 6, 7, 8, 9, 10]\n",
      "[2, 6, 6, 12, 10, 18, 14, 24, 18, 30]\n"
     ]
    }
   ],
   "source": [
    "#リストからリストを作る例\n",
    "a = [1, 2, 3, 4, 5, 6, 7, 8, 9, 10]\n",
    "b = []\n",
    "d = []\n",
    "\n",
    "for c in a:\n",
    "    if c%2 == 1:\n",
    "        b.append(c)\n",
    "        d.append(c * 2)\n",
    "    elif c%2 == 0:\n",
    "        b.append(c)\n",
    "        d.append(c * 3)\n",
    "\n",
    "print(b)\n",
    "print(d)"
   ]
  },
  {
   "cell_type": "code",
   "execution_count": 5,
   "id": "23a80e67-b851-4fa1-93e2-a6bc0d73dc36",
   "metadata": {},
   "outputs": [
    {
     "name": "stdout",
     "output_type": "stream",
     "text": [
      "[2, 4, 6, 8, 10, 12, 14, 16, 18, 20]\n"
     ]
    }
   ],
   "source": [
    "#内包表記を用いて短く\n",
    "a = [1, 2, 3, 4, 5, 6, 7, 8, 9, 10]\n",
    "b = [c*2 for c in a]\n",
    "print(b)"
   ]
  },
  {
   "cell_type": "code",
   "execution_count": 8,
   "id": "642367c5-028c-4329-81de-74fc5bb100d1",
   "metadata": {},
   "outputs": [
    {
     "name": "stdout",
     "output_type": "stream",
     "text": [
      "[2, 4, 6, 8]\n"
     ]
    }
   ],
   "source": [
    "#内包表記には条件式を入れれる\n",
    "a = [1, 2, 3, 4, 5, 6, 7, 8, 9, 10]\n",
    "b = [c*2 for c in a if c < 5]\n",
    "print(b)\n",
    "#新たなリスト = [要素への処理 for 要素 in リスト if 条件式]"
   ]
  },
  {
   "cell_type": "code",
   "execution_count": 15,
   "id": "7f5ff1ab-a1c9-4e41-bfcb-48bb723d238d",
   "metadata": {},
   "outputs": [
    {
     "name": "stdout",
     "output_type": "stream",
     "text": [
      "['PenPen', 'PineapplePineapple', 'AppleApple', 'PenPen']\n"
     ]
    }
   ],
   "source": [
    "#演習\n",
    "ppap = [\"Pen\", \"Pico\", \"Pico\", \"Pineapple\", \"Pico\", \"Apple\", \"Pen\", \"Pico\"]\n",
    "new_ppap = [p*2 for p in ppap if p != \"Pico\"]\n",
    "print(new_ppap)"
   ]
  },
  {
   "cell_type": "code",
   "execution_count": null,
   "id": "219e1616-b4e9-46a4-b0d9-eb116ad3cbc0",
   "metadata": {},
   "outputs": [],
   "source": []
  }
 ],
 "metadata": {
  "kernelspec": {
   "display_name": "Python 3 (ipykernel)",
   "language": "python",
   "name": "python3"
  },
  "language_info": {
   "codemirror_mode": {
    "name": "ipython",
    "version": 3
   },
   "file_extension": ".py",
   "mimetype": "text/x-python",
   "name": "python",
   "nbconvert_exporter": "python",
   "pygments_lexer": "ipython3",
   "version": "3.12.4"
  }
 },
 "nbformat": 4,
 "nbformat_minor": 5
}
