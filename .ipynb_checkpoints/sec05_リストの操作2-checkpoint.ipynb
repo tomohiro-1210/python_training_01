{
 "cells": [
  {
   "cell_type": "markdown",
   "id": "3057f693-9cd8-469b-90d3-9fab328fe4bf",
   "metadata": {},
   "source": [
    "# リストの操作2"
   ]
  },
  {
   "cell_type": "code",
   "execution_count": 5,
   "id": "aacce950-285f-40d1-93c4-073c7380aae6",
   "metadata": {},
   "outputs": [
    {
     "name": "stdout",
     "output_type": "stream",
     "text": [
      "5\n"
     ]
    }
   ],
   "source": [
    "#リストの要素数取得\n",
    "a = [1, 2, 3, 4, 5]\n",
    "b = len(a) #lenでリスト要素数取得\n",
    "\n",
    "print(b)"
   ]
  },
  {
   "cell_type": "code",
   "execution_count": 6,
   "id": "81eb225b-3bbc-4ddd-8a26-3c34b1dbd1c7",
   "metadata": {},
   "outputs": [
    {
     "name": "stdout",
     "output_type": "stream",
     "text": [
      "True\n"
     ]
    }
   ],
   "source": [
    "#要素の有り無しの判定\n",
    "a = [1, 2, 3, 4, 5]\n",
    "b = 4 in a\n",
    "print(b)\n"
   ]
  },
  {
   "cell_type": "code",
   "execution_count": 14,
   "id": "7022f4f5-9104-4cec-87e0-ed09256c37a5",
   "metadata": {},
   "outputs": [
    {
     "name": "stdout",
     "output_type": "stream",
     "text": [
      "[[1, 2, 3, 4, 5], [11, 12, 13, 14, 15]]\n",
      "dは: 13\n",
      "eは: 2\n",
      "fは: 15\n"
     ]
    }
   ],
   "source": [
    "#リストの中にリスト\n",
    "a = [1, 2, 3, 4, 5]\n",
    "b = [11, 12, 13, 14, 15]\n",
    "c = [a , b]\n",
    "print(c)\n",
    "\n",
    "d = c[1][2] #結合したリストからの要素取り出し\n",
    "print(\"dは:\" , d)\n",
    "\n",
    "e = c[0][1]\n",
    "print(\"eは:\" , e)\n",
    "\n",
    "f = d + e #取り出した要素同士の計算\n",
    "print(\"fは:\" , f)"
   ]
  },
  {
   "cell_type": "code",
   "execution_count": 19,
   "id": "be5900af-88aa-4f6e-8e23-e0306f2341f7",
   "metadata": {},
   "outputs": [
    {
     "name": "stdout",
     "output_type": "stream",
     "text": [
      "[['P', 'E', 'N'], ['A', 'P', 'P'], ['P', 'I', 'N']]\n",
      "I\n"
     ]
    }
   ],
   "source": [
    "#演習\n",
    "pens = [\"P\", \"E\", \"N\"]\n",
    "apples = [\"A\", \"P\", \"P\"]\n",
    "pines = [\"P\", \"I\", \"N\"]\n",
    "\n",
    "ppa = [pens, apples, pines]\n",
    "print(ppa)\n",
    "\n",
    "print(ppa[2][1])"
   ]
  },
  {
   "cell_type": "code",
   "execution_count": null,
   "id": "365031ed-da69-4e9a-8f20-2a754497acbd",
   "metadata": {},
   "outputs": [],
   "source": []
  }
 ],
 "metadata": {
  "kernelspec": {
   "display_name": "Python 3 (ipykernel)",
   "language": "python",
   "name": "python3"
  },
  "language_info": {
   "codemirror_mode": {
    "name": "ipython",
    "version": 3
   },
   "file_extension": ".py",
   "mimetype": "text/x-python",
   "name": "python",
   "nbconvert_exporter": "python",
   "pygments_lexer": "ipython3",
   "version": "3.12.4"
  }
 },
 "nbformat": 4,
 "nbformat_minor": 5
}
