{
 "cells": [
  {
   "cell_type": "markdown",
   "id": "b554a1a7-4c99-4b98-8258-3a234dfb844d",
   "metadata": {},
   "source": [
    "# 無名関数"
   ]
  },
  {
   "cell_type": "code",
   "execution_count": 1,
   "id": "5f006729-2b67-4a30-8c8e-07f6405ff2c6",
   "metadata": {},
   "outputs": [
    {
     "name": "stdout",
     "output_type": "stream",
     "text": [
      "25\n"
     ]
    }
   ],
   "source": [
    "def add(a, b):\n",
    "    c = a + b\n",
    "    return c\n",
    "\n",
    "print(add(5, 20))"
   ]
  },
  {
   "cell_type": "code",
   "execution_count": 3,
   "id": "d61819cd-0c49-4079-ae37-fe44ff81ebb8",
   "metadata": {},
   "outputs": [
    {
     "name": "stdout",
     "output_type": "stream",
     "text": [
      "95\n"
     ]
    }
   ],
   "source": [
    "#関数オブジェクト\n",
    "add_2 = add\n",
    "print(add_2(45, 50))\n"
   ]
  },
  {
   "cell_type": "code",
   "execution_count": 5,
   "id": "1c49bfc3-8ad5-4411-ad7e-024481282244",
   "metadata": {},
   "outputs": [
    {
     "name": "stdout",
     "output_type": "stream",
     "text": [
      "24\n"
     ]
    }
   ],
   "source": [
    "#lambda関数\n",
    "multiply = lambda a, b: a * b #a ,bが引数、a + bが返り値\n",
    "print(multiply(4, 6))"
   ]
  },
  {
   "cell_type": "code",
   "execution_count": 6,
   "id": "e68610c7-f5c1-4960-a177-5fe0c52d1f86",
   "metadata": {},
   "outputs": [
    {
     "name": "stdout",
     "output_type": "stream",
     "text": [
      "17\n"
     ]
    }
   ],
   "source": [
    "plus = lambda num1 , num2 : num1 + num2\n",
    "print(plus(8, 9))"
   ]
  },
  {
   "cell_type": "code",
   "execution_count": 7,
   "id": "0731e0f8-2159-4944-a6e3-ab505eb81350",
   "metadata": {},
   "outputs": [
    {
     "name": "stdout",
     "output_type": "stream",
     "text": [
      "Pen Pineapple Apple Pen!\n"
     ]
    }
   ],
   "source": [
    "d = lambda a, b, c: a + \" \" + b + \" \" + c + \" \" + a + \"!\"\n",
    "print(d(\"Pen\", \"Pineapple\", \"Apple\"))"
   ]
  },
  {
   "cell_type": "code",
   "execution_count": null,
   "id": "8cd3d6bc-76e8-423f-8514-33d678782016",
   "metadata": {},
   "outputs": [],
   "source": []
  }
 ],
 "metadata": {
  "kernelspec": {
   "display_name": "Python 3 (ipykernel)",
   "language": "python",
   "name": "python3"
  },
  "language_info": {
   "codemirror_mode": {
    "name": "ipython",
    "version": 3
   },
   "file_extension": ".py",
   "mimetype": "text/x-python",
   "name": "python",
   "nbconvert_exporter": "python",
   "pygments_lexer": "ipython3",
   "version": "3.12.4"
  }
 },
 "nbformat": 4,
 "nbformat_minor": 5
}
