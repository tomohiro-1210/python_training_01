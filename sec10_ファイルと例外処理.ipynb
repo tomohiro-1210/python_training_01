{
 "cells": [
  {
   "cell_type": "markdown",
   "id": "a93f266a-5a7f-4a53-b766-a69c2d7b7a23",
   "metadata": {},
   "source": [
    "<br>\n",
    "<h1>ファイルへの書き出し</h1>"
   ]
  },
  {
   "cell_type": "code",
   "execution_count": 1,
   "id": "2fab95b5-bfb4-42f0-b6a5-c4d3cf28db65",
   "metadata": {},
   "outputs": [
    {
     "name": "stdout",
     "output_type": "stream",
     "text": [
      "54\n"
     ]
    }
   ],
   "source": [
    "greetings = \"Good morning!\\nGoodafternoon!\\nGood evening!\\ngood night!\" #\\nは改行記号\n",
    "\n",
    "f = open(\"greetings.txt\", \"w\")\n",
    "a = f.write(greetings)\n",
    "f.close()\n",
    "\n",
    "print(a)"
   ]
  },
  {
   "cell_type": "code",
   "execution_count": 2,
   "id": "b4a56f2d-8001-4f1b-acff-c89bba0dd9d3",
   "metadata": {},
   "outputs": [
    {
     "name": "stdout",
     "output_type": "stream",
     "text": [
      "39\n"
     ]
    }
   ],
   "source": [
    "yakumos = \"国鉄色\\nスーパーやくも色\\n緑やくも色\\nゆったりやくも色\\nブロンズやくも２７３系\"\n",
    "\n",
    "fy = open(\"yakumo.txt\" , \"w\")\n",
    "a = fy.write(yakumos)\n",
    "fy.close()\n",
    "\n",
    "print(a)"
   ]
  },
  {
   "cell_type": "markdown",
   "id": "09dbbab2-1200-4f0c-a0d2-c7a588fd42c5",
   "metadata": {},
   "source": [
    "<br>\n",
    "<h1>ファイルへの読み込み</h1>\n"
   ]
  },
  {
   "cell_type": "code",
   "execution_count": 3,
   "id": "09105aea-2c19-4c43-927d-0271594cbc5f",
   "metadata": {},
   "outputs": [
    {
     "name": "stdout",
     "output_type": "stream",
     "text": [
      "国鉄色\n",
      "スーパーやくも色\n",
      "緑やくも色\n",
      "ゆったりやくも色\n",
      "ブロンズやくも２７３系\n"
     ]
    }
   ],
   "source": [
    "openfile = open(\"yakumo.txt\", \"r\")\n",
    "a = openfile.read()\n",
    "openfile.close()\n",
    "print(a)"
   ]
  },
  {
   "cell_type": "markdown",
   "id": "c8310d9e-c976-4a64-b427-901150170660",
   "metadata": {},
   "source": [
    "<br>\n",
    "<h1>with構文</h1>\n"
   ]
  },
  {
   "cell_type": "code",
   "execution_count": 5,
   "id": "0e512a92-a6f1-45a5-b78d-f460c98039bb",
   "metadata": {},
   "outputs": [],
   "source": [
    "fruits = \"りんご\\nぶどう\\n梨\\nさくらんぼ\\n桃\"\n",
    "\n",
    "with open(\"果物.txt\", \"w\") as f:\n",
    "    f.write(fruits)"
   ]
  },
  {
   "cell_type": "code",
   "execution_count": 7,
   "id": "445c6207-8da7-4836-95f8-b79d048854d7",
   "metadata": {},
   "outputs": [],
   "source": [
    "#演習\n",
    "dogs = \"Shiba\\nAkita\\nTosa\\nKai\"\n",
    "with open(\"dogs.txt\" , \"w\") as w:\n",
    "    w.write(dogs)"
   ]
  },
  {
   "cell_type": "code",
   "execution_count": 10,
   "id": "18bc783d-d919-4c92-bdee-6390095bc70e",
   "metadata": {},
   "outputs": [],
   "source": [
    "#html\n",
    "html = \"<p>with構文を使うとHTMLのコードが挿入されるものなのか</p>\"\n",
    "css = \"<style>p{color:red; font-weight:bold;}</style>\"\n",
    "\n",
    "file = html + css\n",
    "\n",
    "with open(\"index.html\" , \"w\") as h:\n",
    "    h.write(file)"
   ]
  },
  {
   "cell_type": "code",
   "execution_count": null,
   "id": "36016286-878d-428f-bab3-fc0643b212be",
   "metadata": {},
   "outputs": [],
   "source": []
  }
 ],
 "metadata": {
  "kernelspec": {
   "display_name": "Python 3 (ipykernel)",
   "language": "python",
   "name": "python3"
  },
  "language_info": {
   "codemirror_mode": {
    "name": "ipython",
    "version": 3
   },
   "file_extension": ".py",
   "mimetype": "text/x-python",
   "name": "python",
   "nbconvert_exporter": "python",
   "pygments_lexer": "ipython3",
   "version": "3.12.4"
  }
 },
 "nbformat": 4,
 "nbformat_minor": 5
}
