{
 "cells": [
  {
   "cell_type": "markdown",
   "id": "5b53747b-12dd-4513-a018-3dfd2bb8c75b",
   "metadata": {},
   "source": [
    "比較演算子"
   ]
  },
  {
   "cell_type": "code",
   "execution_count": 4,
   "id": "709abf2e-74e3-4e9f-80c4-eb0202d9d87a",
   "metadata": {},
   "outputs": [
    {
     "name": "stdout",
     "output_type": "stream",
     "text": [
      "False\n",
      "<class 'bool'>\n",
      "True\n",
      "<class 'bool'>\n"
     ]
    }
   ],
   "source": [
    "a = 3; b = 7\n",
    "c = a > b\n",
    "print(c)\n",
    "print(type(c)) # boolはtrue/falseの判別\n",
    "\n",
    "d = a < b\n",
    "print(d)\n",
    "print(type(d))"
   ]
  },
  {
   "cell_type": "code",
   "execution_count": 5,
   "id": "8cdc6e49-4032-4508-b44e-10042f388f41",
   "metadata": {},
   "outputs": [
    {
     "name": "stdout",
     "output_type": "stream",
     "text": [
      "< :  True\n",
      "> :  False\n",
      "<= :  True\n",
      ">= :  False\n",
      "== :  False\n",
      "!= :  True\n"
     ]
    }
   ],
   "source": [
    "#いろいろな比較演算子\n",
    "\n",
    "num1 = 10; num2 = 20\n",
    "\n",
    "#大きい\n",
    "aa = num1 > num2\n",
    "print(\"> : \" , aa)\n",
    "\n",
    "#小さい\n",
    "bb = num1 < num2\n",
    "print(\"< : \" , bb)\n",
    "\n",
    "#以下\n",
    "cc = num1 <= num2\n",
    "print(\"<= : \" , cc)\n",
    "\n",
    "#以上\n",
    "dd = num1 >= num2\n",
    "print(\">= : \" , dd)\n",
    "\n",
    "#等しい\n",
    "ee = num1 == num2\n",
    "print(\"== : \" , ee)\n",
    "\n",
    "#等しくない\n",
    "ff = num1 != num2\n",
    "print(\"!= : \" , ff)"
   ]
  },
  {
   "cell_type": "code",
   "execution_count": 6,
   "id": "2133dd4e-9156-4e54-823e-c5b0fe7e89ea",
   "metadata": {},
   "outputs": [
    {
     "name": "stdout",
     "output_type": "stream",
     "text": [
      "< :  False\n",
      "> :  False\n",
      "<= :  True\n",
      ">= :  True\n",
      "== :  True\n",
      "!= :  False\n"
     ]
    }
   ],
   "source": [
    "#演習\n",
    "a = 5; b = 5\n",
    "\n",
    "#aがbよりも小さいかどうか\n",
    "c = a < b\n",
    "print(\"< : \" , c)\n",
    "\n",
    "#aがbよりも大きいかどうか\n",
    "d = a > b\n",
    "print(\"> : \" , d)\n",
    "\n",
    "#aとbが以下かどうか\n",
    "e = a <= b\n",
    "print(\"<= : \" , e)\n",
    "\n",
    "#aとbが以上かどうか\n",
    "f = a >= b\n",
    "print(\">= : \" , f)\n",
    "\n",
    "#aとbが等しいかどうか\n",
    "g = a == b\n",
    "print(\"== : \" , g)\n",
    "\n",
    "#aとbが等しくないかどうか\n",
    "h = a != b\n",
    "print(\"!= : \" , h)"
   ]
  },
  {
   "cell_type": "code",
   "execution_count": null,
   "id": "3990b199-8587-4f64-bb60-8c66cc02d3e6",
   "metadata": {},
   "outputs": [],
   "source": []
  }
 ],
 "metadata": {
  "kernelspec": {
   "display_name": "Python 3 (ipykernel)",
   "language": "python",
   "name": "python3"
  },
  "language_info": {
   "codemirror_mode": {
    "name": "ipython",
    "version": 3
   },
   "file_extension": ".py",
   "mimetype": "text/x-python",
   "name": "python",
   "nbconvert_exporter": "python",
   "pygments_lexer": "ipython3",
   "version": "3.12.4"
  }
 },
 "nbformat": 4,
 "nbformat_minor": 5
}
