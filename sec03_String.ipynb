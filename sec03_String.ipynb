{
 "cells": [
  {
   "cell_type": "code",
   "execution_count": 4,
   "id": "dacc3366-2e8e-4ba2-b050-3ec88e3c749f",
   "metadata": {},
   "outputs": [
    {
     "name": "stdout",
     "output_type": "stream",
     "text": [
      "Hello python!!\n",
      "Hello python!!\n"
     ]
    }
   ],
   "source": [
    "a = \"Hello python!!\"\n",
    "print(a)\n",
    "\n",
    "b = 'Hello python!!'\n",
    "print(b)"
   ]
  },
  {
   "cell_type": "code",
   "execution_count": 3,
   "id": "e04bc9c9-e959-49e8-b38c-38dc67d700dc",
   "metadata": {},
   "outputs": [
    {
     "name": "stdout",
     "output_type": "stream",
     "text": [
      "Hello python!!\n",
      "<class 'str'>\n"
     ]
    }
   ],
   "source": [
    "print(a)\n",
    "print(type(a))"
   ]
  },
  {
   "cell_type": "code",
   "execution_count": 5,
   "id": "e541f015-f847-4e8d-8869-d70896561bb1",
   "metadata": {},
   "outputs": [
    {
     "name": "stdout",
     "output_type": "stream",
     "text": [
      "Hello python!!\n",
      "<class 'str'>\n"
     ]
    }
   ],
   "source": [
    "print(b)\n",
    "print(type(b))"
   ]
  },
  {
   "cell_type": "code",
   "execution_count": 8,
   "id": "ce760fa4-f9b1-46dc-95b9-ffa588eef7a7",
   "metadata": {},
   "outputs": [
    {
     "name": "stdout",
     "output_type": "stream",
     "text": [
      "Good Morning 'Python' name\n",
      "<class 'str'>\n",
      "Good Morning \"Python\" name\n",
      "<class 'str'>\n"
     ]
    }
   ],
   "source": [
    "#本文中で\"の中で'を使う例\n",
    "c = \"Good Morning 'Python' name\"\n",
    "print(c)\n",
    "print(type(c))\n",
    "\n",
    "#本文中で'の中で\"を使う例\n",
    "d = 'Good Morning \"Python\" name'\n",
    "print(d)\n",
    "print(type(d))"
   ]
  },
  {
   "cell_type": "code",
   "execution_count": 11,
   "id": "122011c8-1373-44f9-a466-aadde460b855",
   "metadata": {},
   "outputs": [
    {
     "name": "stdout",
     "output_type": "stream",
     "text": [
      "My name is Python programming.\n",
      "    Welcome to the Python world!!\n",
      "    My name is Python programming.\n",
      "    Welcome to the Python world!!\n",
      "    \n",
      "<class 'str'>\n"
     ]
    }
   ],
   "source": [
    "#改行\n",
    "e = '''My name is Python programming.\n",
    "    Welcome to the Python world!!\n",
    "    '''\n",
    "print(e + e)\n",
    "print(type(e))"
   ]
  },
  {
   "cell_type": "code",
   "execution_count": 12,
   "id": "829285a4-1e44-47b9-b7b2-9d06747372fc",
   "metadata": {},
   "outputs": [
    {
     "name": "stdout",
     "output_type": "stream",
     "text": [
      "I have an apple.\n",
      "I have a 'big' pineapple.\n",
      "I have a pen.\n",
      "I have an apple.\n",
      "I have a pineapple.\n"
     ]
    }
   ],
   "source": [
    "#演習\n",
    "apple = \"I have an apple.\"\n",
    "print(apple)\n",
    "\n",
    "pineapple = \"I have a 'big' pineapple.\"\n",
    "print(pineapple)\n",
    "\n",
    "pen = '''I have a pen.\n",
    "I have an apple.\n",
    "I have a pineapple.'''\n",
    "print(pen)"
   ]
  },
  {
   "cell_type": "code",
   "execution_count": null,
   "id": "dddc4645-130c-429d-98ef-50aacee8f5f0",
   "metadata": {},
   "outputs": [],
   "source": []
  }
 ],
 "metadata": {
  "kernelspec": {
   "display_name": "Python 3 (ipykernel)",
   "language": "python",
   "name": "python3"
  },
  "language_info": {
   "codemirror_mode": {
    "name": "ipython",
    "version": 3
   },
   "file_extension": ".py",
   "mimetype": "text/x-python",
   "name": "python",
   "nbconvert_exporter": "python",
   "pygments_lexer": "ipython3",
   "version": "3.12.4"
  }
 },
 "nbformat": 4,
 "nbformat_minor": 5
}
