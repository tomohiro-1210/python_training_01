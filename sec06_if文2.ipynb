{
 "cells": [
  {
   "cell_type": "markdown",
   "id": "5470e3f9-e534-478a-854a-bc5db622e377",
   "metadata": {},
   "source": [
    "# if文2"
   ]
  },
  {
   "cell_type": "code",
   "execution_count": 2,
   "id": "672054b2-e46a-48e8-abd9-d92477410977",
   "metadata": {},
   "outputs": [
    {
     "name": "stdout",
     "output_type": "stream",
     "text": [
      "201\n"
     ]
    }
   ],
   "source": [
    "a = 15\n",
    "b = 0\n",
    "\n",
    "if a < 10:\n",
    "    b += 100\n",
    "elif a < 20:\n",
    "    b += 200\n",
    "else: \n",
    "    b += 300\n",
    "\n",
    "#インデントを元に戻すと流れが戻る\n",
    "b += 1\n",
    "print(b)"
   ]
  },
  {
   "cell_type": "code",
   "execution_count": 3,
   "id": "fb3792a5-c6c8-46a6-887c-7418ee0e1ecd",
   "metadata": {},
   "outputs": [
    {
     "name": "stdout",
     "output_type": "stream",
     "text": [
      "501\n"
     ]
    }
   ],
   "source": [
    "#分岐の中で分岐もできる\n",
    "a = 15\n",
    "b = 100\n",
    "c = 0\n",
    "\n",
    "if a < 10:\n",
    "    if c == 10:\n",
    "        b += 100\n",
    "    else: \n",
    "        b += 100\n",
    "else: \n",
    "    if c == 10:\n",
    "        b += 300\n",
    "    else:\n",
    "        b += 400\n",
    "\n",
    "b += 1\n",
    "print(b)"
   ]
  },
  {
   "cell_type": "code",
   "execution_count": 10,
   "id": "603019eb-a736-4289-9555-25ae2e83ab28",
   "metadata": {},
   "outputs": [
    {
     "name": "stdout",
     "output_type": "stream",
     "text": [
      "Pen Pineapple Appple Pen \n"
     ]
    }
   ],
   "source": [
    "#演習\n",
    "pen = \"Pen \"\n",
    "apple = \"Appple \"\n",
    "pine = \"Pineapple \"\n",
    "pico = 100\n",
    "ppap = \"\"\n",
    "\n",
    "if pico < 100:\n",
    "    ppap = pen + apple + pine + pen\n",
    "elif pico < 200:\n",
    "    ppap = pen + pine + apple + pen\n",
    "else:\n",
    "    ppap = apple + pen + pen + pine\n",
    "\n",
    "print(ppap)"
   ]
  },
  {
   "cell_type": "code",
   "execution_count": null,
   "id": "d930ab4e-0dfc-4906-8bcf-e1c3b0b6b3c0",
   "metadata": {},
   "outputs": [],
   "source": []
  }
 ],
 "metadata": {
  "kernelspec": {
   "display_name": "Python 3 (ipykernel)",
   "language": "python",
   "name": "python3"
  },
  "language_info": {
   "codemirror_mode": {
    "name": "ipython",
    "version": 3
   },
   "file_extension": ".py",
   "mimetype": "text/x-python",
   "name": "python",
   "nbconvert_exporter": "python",
   "pygments_lexer": "ipython3",
   "version": "3.12.4"
  }
 },
 "nbformat": 4,
 "nbformat_minor": 5
}
