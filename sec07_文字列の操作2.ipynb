{
 "cells": [
  {
   "cell_type": "markdown",
   "id": "42c3811d-b13b-4d09-9c86-03acceb2152a",
   "metadata": {},
   "source": [
    "# 文字列の操作2"
   ]
  },
  {
   "cell_type": "code",
   "execution_count": 2,
   "id": "99654879-1510-4296-9c07-f3da30e1ae34",
   "metadata": {},
   "outputs": [
    {
     "name": "stdout",
     "output_type": "stream",
     "text": [
      "この電車は快速敦賀行です。\n"
     ]
    }
   ],
   "source": [
    "#stripで文字列の前後の空白削除\n",
    "text = \"    この電車は快速敦賀行です。　　　\"\n",
    "text_strip = text.strip()\n",
    "print(text_strip)"
   ]
  },
  {
   "cell_type": "code",
   "execution_count": 3,
   "id": "30146c22-20fa-4a60-9a14-91cddb2eb5fe",
   "metadata": {},
   "outputs": [
    {
     "name": "stdout",
     "output_type": "stream",
     "text": [
      "まもなく２番線に大阪梅田行直通特急が参ります。\n"
     ]
    }
   ],
   "source": [
    "#()内に文字指定してその文字を取り除く\n",
    "text_b = \"<><><><><><><><><><>まもなく２番線に大阪梅田行直通特急が参ります。<><><><><>\"\n",
    "text_b_strip = text_b.strip(\"<>\")\n",
    "print(text_b_strip)"
   ]
  },
  {
   "cell_type": "code",
   "execution_count": 5,
   "id": "a203c689-a17b-4494-b5dd-0dd4d6d99888",
   "metadata": {},
   "outputs": [
    {
     "name": "stdout",
     "output_type": "stream",
     "text": [
      "123 123 <class 'str'> 123123\n"
     ]
    }
   ],
   "source": [
    "#str()で様々な文字列に変換する\n",
    "a = str(123)\n",
    "print(a, a, type(a), a*2) #いくらでも引数の中に入れれるのか"
   ]
  },
  {
   "cell_type": "code",
   "execution_count": 7,
   "id": "957852cd-45aa-482d-950e-6fdcf10ec1ce",
   "metadata": {},
   "outputs": [
    {
     "name": "stdout",
     "output_type": "stream",
     "text": [
      "23\n"
     ]
    }
   ],
   "source": [
    "#演習\n",
    "text_b = \"<><><><><><><><><><>まもなく２番線に大阪梅田行直通特急が参ります。<><><><><>\"\n",
    "text_b_strip = text_b.strip(\"<>\")\n",
    "text_b_len = len(text_b_strip)\n",
    "print(text_b_len)"
   ]
  },
  {
   "cell_type": "code",
   "execution_count": null,
   "id": "9adad207-bec0-47bf-9d12-6147a14ba9a9",
   "metadata": {},
   "outputs": [],
   "source": []
  }
 ],
 "metadata": {
  "kernelspec": {
   "display_name": "Python 3 (ipykernel)",
   "language": "python",
   "name": "python3"
  },
  "language_info": {
   "codemirror_mode": {
    "name": "ipython",
    "version": 3
   },
   "file_extension": ".py",
   "mimetype": "text/x-python",
   "name": "python",
   "nbconvert_exporter": "python",
   "pygments_lexer": "ipython3",
   "version": "3.12.4"
  }
 },
 "nbformat": 4,
 "nbformat_minor": 5
}
