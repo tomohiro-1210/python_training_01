{
 "cells": [
  {
   "cell_type": "markdown",
   "id": "5a0747d6-dcd5-4cac-8b3c-16fe44582d7c",
   "metadata": {},
   "source": [
    "# セットの操作"
   ]
  },
  {
   "cell_type": "code",
   "execution_count": 1,
   "id": "e0746ddd-a98b-46af-a7a4-ab468547c7b8",
   "metadata": {},
   "outputs": [
    {
     "name": "stdout",
     "output_type": "stream",
     "text": [
      "{'サンダーバード', '雷鳥', 'ブラック', 'ホワイトアロー'}\n"
     ]
    }
   ],
   "source": [
    "#セットの例\n",
    "a = {\"雷鳥\", \"サンダーバード\", \"ブラック\", \"ホワイトアロー\"}\n",
    "print(a)\n",
    "#セットはリストやタプルと違い表示される順番がバラバラになる"
   ]
  },
  {
   "cell_type": "code",
   "execution_count": 2,
   "id": "cbd9db41-8c07-495d-9d57-d2edccaa9697",
   "metadata": {},
   "outputs": [
    {
     "name": "stdout",
     "output_type": "stream",
     "text": [
      "{'ホワイトアロー', 'ブラック', 'サンダーバード', '雷鳥', '神戸ルミナリエ'}\n"
     ]
    }
   ],
   "source": [
    "#addで要素を追加する\n",
    "a = {\"雷鳥\", \"サンダーバード\", \"ブラック\", \"ホワイトアロー\"}\n",
    "a.add(\"神戸ルミナリエ\")\n",
    "print(a)"
   ]
  },
  {
   "cell_type": "code",
   "execution_count": null,
   "id": "3a946d1c-ac93-423a-b98e-761fb0ab1b9c",
   "metadata": {},
   "outputs": [],
   "source": []
  },
  {
   "cell_type": "code",
   "execution_count": 5,
   "id": "92acebc2-33bc-4513-b3f1-1c5ecef07eb5",
   "metadata": {},
   "outputs": [
    {
     "name": "stdout",
     "output_type": "stream",
     "text": [
      "['サンダーバード', 'サンダーバード', '雷鳥', 'サンダーバード', 'しらさぎ', 'はくたか', 'サンダーバード', '北越', 'はくたか', 'しらさぎ', 'サンダーバード', 'おやすみエクスプレス']\n",
      "{'サンダーバード', '雷鳥', '北越', 'おやすみエクスプレス', 'しらさぎ', 'はくたか'}\n"
     ]
    }
   ],
   "source": [
    "#セットはリストから作成可能\n",
    "train_list = [\"サンダーバード\", \"サンダーバード\", \"雷鳥\", \"サンダーバード\", \"しらさぎ\", \"はくたか\", \"サンダーバード\", \"北越\", \"はくたか\", \"しらさぎ\", \"サンダーバード\", \"おやすみエクスプレス\"]\n",
    "print(train_list)\n",
    "\n",
    "train_set = set(train_list)\n",
    "print(train_set)"
   ]
  },
  {
   "cell_type": "code",
   "execution_count": 6,
   "id": "5f7cbcd9-43be-4758-b3fd-f5810d6bf76a",
   "metadata": {},
   "outputs": [
    {
     "name": "stdout",
     "output_type": "stream",
     "text": [
      "{'りんご', 'ペン', 'パイナップル'}\n"
     ]
    }
   ],
   "source": [
    "a = [\"ペン\" , \"りんご\" , \"パイナップル\" , \"ペン\"]\n",
    "b = set(a)\n",
    "print(b)"
   ]
  },
  {
   "cell_type": "code",
   "execution_count": 8,
   "id": "70ee6f76-a390-4e0d-9770-2ad167a59781",
   "metadata": {},
   "outputs": [
    {
     "name": "stdout",
     "output_type": "stream",
     "text": [
      "{'Apple', 'Pen', 'Pineapple', 'Pico'}\n"
     ]
    }
   ],
   "source": [
    "#演習\n",
    "ppap = {\"Pen\", \"Pineapple\", \"Apple\", \"Pen\", \"Apple\", \"Pico\", \"Pen\"}\n",
    "ppap_set = set(ppap)\n",
    "print(ppap_set)"
   ]
  },
  {
   "cell_type": "code",
   "execution_count": null,
   "id": "c3ab25ab-5c4e-416e-a4e3-f8f07f81104e",
   "metadata": {},
   "outputs": [],
   "source": []
  }
 ],
 "metadata": {
  "kernelspec": {
   "display_name": "Python 3 (ipykernel)",
   "language": "python",
   "name": "python3"
  },
  "language_info": {
   "codemirror_mode": {
    "name": "ipython",
    "version": 3
   },
   "file_extension": ".py",
   "mimetype": "text/x-python",
   "name": "python",
   "nbconvert_exporter": "python",
   "pygments_lexer": "ipython3",
   "version": "3.12.4"
  }
 },
 "nbformat": 4,
 "nbformat_minor": 5
}
