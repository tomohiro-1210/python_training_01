{
 "cells": [
  {
   "cell_type": "markdown",
   "id": "2ac28af0-0da5-4583-b294-41f03c913bc9",
   "metadata": {},
   "source": [
    "三項演算子"
   ]
  },
  {
   "cell_type": "code",
   "execution_count": 4,
   "id": "baae7c39-9de6-4b3d-857a-ccdd3e93a7f8",
   "metadata": {},
   "outputs": [
    {
     "name": "stdout",
     "output_type": "stream",
     "text": [
      "raicho\n"
     ]
    }
   ],
   "source": [
    "weight =500\n",
    "train = \"shirasagi\" if weight < 400 else \"raicho\"\n",
    "print(train)"
   ]
  },
  {
   "cell_type": "code",
   "execution_count": 10,
   "id": "4bdd3b10-79be-47bf-8c31-5b5f5dd8f950",
   "metadata": {},
   "outputs": [
    {
     "name": "stdout",
     "output_type": "stream",
     "text": [
      "私はりんごを 1 個食べます\n"
     ]
    }
   ],
   "source": [
    "#演習\n",
    "weight = 65\n",
    "apple_num = 1 if weight < 66 else 2\n",
    "print(\"私はりんごを\" , apple_num , \"個食べます\")"
   ]
  },
  {
   "cell_type": "code",
   "execution_count": null,
   "id": "11162aad-c0ad-440e-b20e-ad610a3ace52",
   "metadata": {},
   "outputs": [],
   "source": []
  }
 ],
 "metadata": {
  "kernelspec": {
   "display_name": "Python 3 (ipykernel)",
   "language": "python",
   "name": "python3"
  },
  "language_info": {
   "codemirror_mode": {
    "name": "ipython",
    "version": 3
   },
   "file_extension": ".py",
   "mimetype": "text/x-python",
   "name": "python",
   "nbconvert_exporter": "python",
   "pygments_lexer": "ipython3",
   "version": "3.12.4"
  }
 },
 "nbformat": 4,
 "nbformat_minor": 5
}
