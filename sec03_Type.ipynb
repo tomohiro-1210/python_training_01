{
 "cells": [
  {
   "cell_type": "code",
   "execution_count": 1,
   "id": "1d6be859-9d86-4a41-9954-8094e3e357c4",
   "metadata": {},
   "outputs": [
    {
     "name": "stdout",
     "output_type": "stream",
     "text": [
      "<class 'int'>\n",
      "<class 'float'>\n",
      "<class 'str'>\n"
     ]
    }
   ],
   "source": [
    "#型の概念\n",
    "a = 123\n",
    "print(type(a))\n",
    "#>int型\n",
    "\n",
    "b = 1919.810\n",
    "print(type(b))\n",
    "#>float型\n",
    "\n",
    "c = \"Hello world!!\"\n",
    "print(type(c))\n",
    "#>str型"
   ]
  },
  {
   "cell_type": "code",
   "execution_count": 2,
   "id": "dd6c936c-4f49-4615-836d-de2f2bd61913",
   "metadata": {},
   "outputs": [
    {
     "name": "stdout",
     "output_type": "stream",
     "text": [
      "<class 'int'>\n",
      "<class 'float'>\n",
      "<class 'str'>\n"
     ]
    }
   ],
   "source": [
    "apple = 321\n",
    "belly = 651.101\n",
    "pen = \"i have a pen.\"\n",
    "\n",
    "print(type(apple))\n",
    "print(type(belly))\n",
    "print(type(pen))"
   ]
  },
  {
   "cell_type": "code",
   "execution_count": null,
   "id": "ef2559f5-829f-45c6-a890-f4b3e5ecb610",
   "metadata": {},
   "outputs": [],
   "source": []
  }
 ],
 "metadata": {
  "kernelspec": {
   "display_name": "Python 3 (ipykernel)",
   "language": "python",
   "name": "python3"
  },
  "language_info": {
   "codemirror_mode": {
    "name": "ipython",
    "version": 3
   },
   "file_extension": ".py",
   "mimetype": "text/x-python",
   "name": "python",
   "nbconvert_exporter": "python",
   "pygments_lexer": "ipython3",
   "version": "3.12.4"
  }
 },
 "nbformat": 4,
 "nbformat_minor": 5
}
