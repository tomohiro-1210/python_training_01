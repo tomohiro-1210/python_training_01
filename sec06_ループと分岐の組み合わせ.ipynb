{
 "cells": [
  {
   "cell_type": "markdown",
   "id": "f423a18e-5f7a-40f9-ac5e-47c955c5ad4d",
   "metadata": {},
   "source": [
    "# ループと分岐の組み合わせ"
   ]
  },
  {
   "cell_type": "code",
   "execution_count": 2,
   "id": "d1b01242-c5ae-4fce-b19f-fe9247c01b7e",
   "metadata": {},
   "outputs": [
    {
     "name": "stdout",
     "output_type": "stream",
     "text": [
      "1\n",
      "偶数\n",
      "3\n",
      "偶数\n",
      "5\n",
      "偶数\n",
      "7\n",
      "偶数\n",
      "9\n",
      "偶数\n",
      "11\n",
      "偶数\n",
      "13\n",
      "偶数\n",
      "15\n",
      "偶数\n",
      "17\n",
      "偶数\n",
      "19\n",
      "偶数\n"
     ]
    }
   ],
   "source": [
    "#以下はfor文を使って帰趨を選別\n",
    "a = [1, 2, 3, 4, 5, 6, 7, 8, 9, 10, 11, 12, 13, 14, 15, 16, 17, 18, 19, 20]\n",
    "for b in a:\n",
    "    if b%2 == 1:\n",
    "        print(b)\n",
    "    else:\n",
    "        print(\"偶数\")"
   ]
  },
  {
   "cell_type": "code",
   "execution_count": 5,
   "id": "96a0c7ec-c020-41f7-b11d-9c6e864db674",
   "metadata": {},
   "outputs": [
    {
     "name": "stdout",
     "output_type": "stream",
     "text": [
      "2\n",
      "4\n",
      "6\n",
      "8\n",
      "10\n",
      "12\n",
      "14\n",
      "16\n",
      "18\n",
      "20\n"
     ]
    }
   ],
   "source": [
    "#演習\n",
    "a = [1, 2, 3, 4, 5, 6, 7, 8, 9, 10, 11, 12, 13, 14, 15, 16, 17, 18, 19, 20]\n",
    "for b in a:\n",
    "    if b%2 == 0:\n",
    "        print(b)"
   ]
  },
  {
   "cell_type": "code",
   "execution_count": null,
   "id": "47732648-2169-4112-a241-97eeb3e9897b",
   "metadata": {},
   "outputs": [],
   "source": []
  }
 ],
 "metadata": {
  "kernelspec": {
   "display_name": "Python 3 (ipykernel)",
   "language": "python",
   "name": "python3"
  },
  "language_info": {
   "codemirror_mode": {
    "name": "ipython",
    "version": 3
   },
   "file_extension": ".py",
   "mimetype": "text/x-python",
   "name": "python",
   "nbconvert_exporter": "python",
   "pygments_lexer": "ipython3",
   "version": "3.12.4"
  }
 },
 "nbformat": 4,
 "nbformat_minor": 5
}
