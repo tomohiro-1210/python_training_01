{
 "cells": [
  {
   "cell_type": "markdown",
   "id": "2bb0332a-23b0-4bfa-9efc-6bcd8a29d699",
   "metadata": {},
   "source": [
    "# 文字列の演算"
   ]
  },
  {
   "cell_type": "code",
   "execution_count": 1,
   "id": "68699454-137e-4321-8773-3eebd74e0de5",
   "metadata": {},
   "outputs": [
    {
     "name": "stdout",
     "output_type": "stream",
     "text": [
      "I will go to the\n"
     ]
    }
   ],
   "source": [
    "a = \"I will \"\n",
    "b = \"go to the\"\n",
    "c = a + b\n",
    "print(c)"
   ]
  },
  {
   "cell_type": "code",
   "execution_count": 5,
   "id": "f4b084de-eea4-46d7-b050-4499b18b0daa",
   "metadata": {},
   "outputs": [
    {
     "name": "stdout",
     "output_type": "stream",
     "text": [
      "ミミックミミック\n"
     ]
    }
   ],
   "source": [
    "#演算子を使って文字列の繰り返し\n",
    "many = 4\n",
    "name = \"ミミック\"\n",
    "\n",
    "num = 3 if many < 3 else 2 #三項演算子取り入れ\n",
    "\n",
    "total = num * name\n",
    "print(total)"
   ]
  },
  {
   "cell_type": "code",
   "execution_count": 10,
   "id": "823732eb-c548-42da-a1a9-d30871b5a272",
   "metadata": {},
   "outputs": [
    {
     "name": "stdout",
     "output_type": "stream",
     "text": [
      "磨\n",
      "宮\n"
     ]
    }
   ],
   "source": [
    "station = \"須磨離宮公園前\"\n",
    "c = station[1] #文字列を先頭から0,1,2・・・と数える\n",
    "d = station[-4] #文字列を最後尾から-1,-2と数える\n",
    "print(c)\n",
    "print(d)"
   ]
  },
  {
   "cell_type": "code",
   "execution_count": 12,
   "id": "1c74a52b-2465-4211-be75-30c783c3c7cc",
   "metadata": {},
   "outputs": [
    {
     "name": "stdout",
     "output_type": "stream",
     "text": [
      "PenPineAppleAppleAppleAppleAppleAppleAppleAppleAppleAppleAppleApplePen\n"
     ]
    }
   ],
   "source": [
    "#演習\n",
    "s = \"Apple\"\n",
    "a = \"Pen\" + \"PineApple\" + s * 11+ \"Pen\"\n",
    "print(a)"
   ]
  },
  {
   "cell_type": "code",
   "execution_count": null,
   "id": "92b8b64f-3c94-40a0-b3a2-e8809e692b29",
   "metadata": {},
   "outputs": [],
   "source": []
  }
 ],
 "metadata": {
  "kernelspec": {
   "display_name": "Python 3 (ipykernel)",
   "language": "python",
   "name": "python3"
  },
  "language_info": {
   "codemirror_mode": {
    "name": "ipython",
    "version": 3
   },
   "file_extension": ".py",
   "mimetype": "text/x-python",
   "name": "python",
   "nbconvert_exporter": "python",
   "pygments_lexer": "ipython3",
   "version": "3.12.4"
  }
 },
 "nbformat": 4,
 "nbformat_minor": 5
}
