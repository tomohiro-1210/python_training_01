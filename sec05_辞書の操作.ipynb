{
 "cells": [
  {
   "cell_type": "markdown",
   "id": "59f52405-4d0f-459c-a654-633eda63bdc7",
   "metadata": {},
   "source": [
    "# 辞書の操作\n"
   ]
  },
  {
   "cell_type": "code",
   "execution_count": 4,
   "id": "af66ce89-6b87-48b2-907e-6967a921e596",
   "metadata": {},
   "outputs": [
    {
     "name": "stdout",
     "output_type": "stream",
     "text": [
      "{'key1': 10, 'key2': 20, 'key3': 30}\n",
      "10\n"
     ]
    }
   ],
   "source": [
    "#辞書\n",
    "a = {\"key1\":10, \"key2\":20, \"key3\":30}\n",
    "print(a)\n",
    "\n",
    "print(a[\"key1\"])"
   ]
  },
  {
   "cell_type": "code",
   "execution_count": 5,
   "id": "3fde0ee6-88bd-4d6c-8246-45f775c5d5a1",
   "metadata": {},
   "outputs": [
    {
     "name": "stdout",
     "output_type": "stream",
     "text": [
      "10\n"
     ]
    }
   ],
   "source": [
    "#辞書への要素アクセス\n",
    "a = {\"key1\":10, \"key2\":20, \"key3\":30}\n",
    "print(a[\"key1\"]) #[]の中身はキーを指定する\n"
   ]
  },
  {
   "cell_type": "code",
   "execution_count": 6,
   "id": "97ee2d19-87bb-49ce-ad21-8355304ae9ed",
   "metadata": {},
   "outputs": [
    {
     "name": "stdout",
     "output_type": "stream",
     "text": [
      "{'key1': 100, 'key2': 20, 'key3': 30}\n"
     ]
    }
   ],
   "source": [
    "#辞書の要素変更\n",
    "a = {\"key1\":10, \"key2\":20, \"key3\":30}\n",
    "a[\"key1\"] = 100 #ここでkey1の要素を変更している\n",
    "print(a)"
   ]
  },
  {
   "cell_type": "code",
   "execution_count": 8,
   "id": "7425f86f-cc12-491f-b9e4-0c42b2be8ef9",
   "metadata": {},
   "outputs": [
    {
     "name": "stdout",
     "output_type": "stream",
     "text": [
      "{'key1': 10, 'key2': 20, 'key3': 30, 'key4': 40}\n"
     ]
    }
   ],
   "source": [
    "#存在していないキーを用いて値を指定すると・・・\n",
    "\n",
    "a = {\"key1\":10, \"key2\":20, \"key3\":30}\n",
    "a[\"key4\"] = 40 #ここで存在していないキーを用いている\n",
    "print(a)\n",
    "\n"
   ]
  },
  {
   "cell_type": "code",
   "execution_count": 12,
   "id": "a4580b4e-5a65-4b8b-8a1e-08550693a8d5",
   "metadata": {},
   "outputs": [
    {
     "name": "stdout",
     "output_type": "stream",
     "text": [
      "key1: 10\n",
      "key4: 40\n",
      "b+cの合計: 50\n"
     ]
    }
   ],
   "source": [
    "#キーの値にアクセスして足し算\n",
    "a = {\"key1\":10, \"key2\":20, \"key3\":30}\n",
    "a[\"key4\"] = 40 #ここで存在していないキーを用いている\n",
    "\n",
    "b = a[\"key1\"]\n",
    "c = a[\"key4\"]\n",
    "\n",
    "print(\"key1:\" , b)\n",
    "print(\"key4:\" , c)\n",
    "\n",
    "d = b + c\n",
    "print(\"b+cの合計:\" , d)"
   ]
  },
  {
   "cell_type": "code",
   "execution_count": 15,
   "id": "ff38cd2a-937a-4263-aa31-544d4f251bd5",
   "metadata": {},
   "outputs": [
    {
     "name": "stdout",
     "output_type": "stream",
     "text": [
      "{'key1': 10, 'key2': 20, 'key3': 30, 'key4': 40, 'key5': 50}\n"
     ]
    }
   ],
   "source": [
    "#キーの値を足した結果で追加されるキーの数が変動\n",
    "a = {\"key1\":10, \"key2\":20, \"key3\":30 , \"key4\":40}\n",
    "b = a[\"key1\"]\n",
    "c = a[\"key3\"]\n",
    "\n",
    "d = b + c\n",
    "e = 50 if d <= 40 else 60 #ここでdの値を判定する、40以下なら50,40より大きいなら60が出る\n",
    "a[\"key5\"] = e \n",
    "print(a)"
   ]
  },
  {
   "cell_type": "code",
   "execution_count": 18,
   "id": "3aa45271-7138-4eaa-9914-eb2cefe869cd",
   "metadata": {},
   "outputs": [
    {
     "name": "stdout",
     "output_type": "stream",
     "text": [
      "{'Pen': 110, 'Pineapple': 20, 'Apple': 30, 'Pico': 40}\n",
      "40\n"
     ]
    }
   ],
   "source": [
    "#演習\n",
    "ppa = {\"Pen\":10, \"Pineapple\":20, \"Apple\":30}\n",
    "\n",
    "ppa[\"Pen\"] = 110\n",
    "ppa[\"Pico\"] = 40\n",
    "\n",
    "print(ppa)\n",
    "pico = ppa[\"Pico\"]\n",
    "print(pico)"
   ]
  },
  {
   "cell_type": "code",
   "execution_count": null,
   "id": "3ccf4f6a-6dc7-426e-ae95-0e4d013435ed",
   "metadata": {},
   "outputs": [],
   "source": []
  }
 ],
 "metadata": {
  "kernelspec": {
   "display_name": "Python 3 (ipykernel)",
   "language": "python",
   "name": "python3"
  },
  "language_info": {
   "codemirror_mode": {
    "name": "ipython",
    "version": 3
   },
   "file_extension": ".py",
   "mimetype": "text/x-python",
   "name": "python",
   "nbconvert_exporter": "python",
   "pygments_lexer": "ipython3",
   "version": "3.12.4"
  }
 },
 "nbformat": 4,
 "nbformat_minor": 5
}
