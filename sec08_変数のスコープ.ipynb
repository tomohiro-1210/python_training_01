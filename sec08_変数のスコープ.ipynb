{
 "cells": [
  {
   "cell_type": "markdown",
   "id": "ea06fd57-adfe-4ff4-b283-bf70eb2a4195",
   "metadata": {},
   "source": [
    "# 変数のスコープ"
   ]
  },
  {
   "cell_type": "code",
   "execution_count": 2,
   "id": "92ae27ad-ebe0-48d7-aa4b-388a625e82df",
   "metadata": {},
   "outputs": [
    {
     "name": "stdout",
     "output_type": "stream",
     "text": [
      "123 456\n"
     ]
    }
   ],
   "source": [
    "a = 123 #グローバル変数、どこからでも参照できる\n",
    "\n",
    "def showNum():\n",
    "    b = 456 #ローカル変数、関数内しか使えない\n",
    "    print(a, b)\n",
    "\n",
    "showNum()"
   ]
  },
  {
   "cell_type": "code",
   "execution_count": 3,
   "id": "23ef3cad-cccd-4868-9983-f00401ebe985",
   "metadata": {},
   "outputs": [
    {
     "name": "stdout",
     "output_type": "stream",
     "text": [
      "ミミック 混沌の箱\n"
     ]
    }
   ],
   "source": [
    "mon_a = \"ミミック\"\n",
    "\n",
    "def party():\n",
    "    mon_b = \"混沌の箱\"\n",
    "    print(mon_a, mon_b)\n",
    "\n",
    "party()"
   ]
  },
  {
   "cell_type": "code",
   "execution_count": 5,
   "id": "2cd6cd82-d429-40c6-9b2d-770214760f8c",
   "metadata": {},
   "outputs": [
    {
     "name": "stdout",
     "output_type": "stream",
     "text": [
      "ローカル関数： 456\n",
      "グローバル関数： 123\n"
     ]
    }
   ],
   "source": [
    "#同じ関数をグローバルとローカルで使用する例\n",
    "a = 123\n",
    "\n",
    "def setLocal():\n",
    "    a = 456\n",
    "    print(\"ローカル関数：\" , a)\n",
    "\n",
    "setLocal()\n",
    "print(\"グローバル関数：\", a)"
   ]
  },
  {
   "cell_type": "code",
   "execution_count": 6,
   "id": "543ded71-8688-4fcd-8af8-f095069e2e36",
   "metadata": {},
   "outputs": [
    {
     "name": "stdout",
     "output_type": "stream",
     "text": [
      "ローカル関数： 471\n",
      "グローバル関数： 471\n"
     ]
    }
   ],
   "source": [
    "#グローバル変数の値を変更する方法\n",
    "a = 475\n",
    "\n",
    "def setGlobal():\n",
    "    global a\n",
    "    a = 471\n",
    "    print(\"ローカル関数：\" , a)\n",
    "\n",
    "setGlobal()\n",
    "print(\"グローバル関数：\", a)\n"
   ]
  },
  {
   "cell_type": "code",
   "execution_count": 12,
   "id": "9bb7eec6-4ce5-4ee2-a974-12ad632c2666",
   "metadata": {},
   "outputs": [
    {
     "name": "stdout",
     "output_type": "stream",
     "text": [
      "Pen Pineapple Apple Pen!\n"
     ]
    }
   ],
   "source": [
    "#演習\n",
    "pen = \"Pen\"\n",
    "apple = \"Ringo\"\n",
    "ppap = \"\"\n",
    "\n",
    "def setPP():\n",
    "    global ppap\n",
    "    global apple\n",
    "    apple = \"Apple\"\n",
    "    pine = \"Pineapple\"\n",
    "    ppap = pen + \" \" + pine + \" \" + apple + \" \" + pen + \"!\"\n",
    "\n",
    "setPP()\n",
    "print(ppap)"
   ]
  },
  {
   "cell_type": "code",
   "execution_count": null,
   "id": "aae11eb8-5062-4328-83f5-b8f58aefd5b4",
   "metadata": {},
   "outputs": [],
   "source": [
    "\n"
   ]
  }
 ],
 "metadata": {
  "kernelspec": {
   "display_name": "Python 3 (ipykernel)",
   "language": "python",
   "name": "python3"
  },
  "language_info": {
   "codemirror_mode": {
    "name": "ipython",
    "version": 3
   },
   "file_extension": ".py",
   "mimetype": "text/x-python",
   "name": "python",
   "nbconvert_exporter": "python",
   "pygments_lexer": "ipython3",
   "version": "3.12.4"
  }
 },
 "nbformat": 4,
 "nbformat_minor": 5
}
