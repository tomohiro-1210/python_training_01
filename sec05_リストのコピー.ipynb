{
 "cells": [
  {
   "cell_type": "markdown",
   "id": "c41d0c95-2660-4acd-be0e-d3f0ac584197",
   "metadata": {},
   "source": [
    "# リストのコピー"
   ]
  },
  {
   "cell_type": "code",
   "execution_count": 10,
   "id": "031834f4-ffa6-4e13-a1d1-4867272cf4a9",
   "metadata": {},
   "outputs": [
    {
     "name": "stdout",
     "output_type": "stream",
     "text": [
      "bのリスト→ [1, 2, 3]\n",
      "aのリスト→ [1, 2, 3]\n",
      "以下要素書き換え後のリスト\n",
      "bのリスト→ [1, 2, 4]\n",
      "aのリスト→ [1, 2, 4]\n"
     ]
    }
   ],
   "source": [
    "#リストのコピー\n",
    "a = [1 ,2 ,3]\n",
    "b = a #bにaのリストが入る\n",
    "print(\"bのリスト→\" , b)\n",
    "print(\"aのリスト→\" , a)\n",
    "\n",
    "b[2] = 4 #aのリストの３番目要素書き換え\n",
    "print(\"以下要素書き換え後のリスト\")\n",
    "print(\"bのリスト→\" , b)\n",
    "print(\"aのリスト→\" , a)"
   ]
  },
  {
   "cell_type": "code",
   "execution_count": 14,
   "id": "59f22410-fa5e-4f22-806f-1c38e6195970",
   "metadata": {},
   "outputs": [
    {
     "name": "stdout",
     "output_type": "stream",
     "text": [
      "bのリスト→ [1, 2, 3]\n",
      "aのリスト→ [1, 2, 3]\n",
      "以下要素書き換え後のリスト\n",
      "bのリスト→ [1, 2, 4]\n",
      "aのリスト→ [1, 2, 3]\n"
     ]
    }
   ],
   "source": [
    "#リストをコピーして参照\n",
    "a = [1 ,2 ,3]\n",
    "b = a.copy() #bにaのリストがコピーされる\n",
    "print(\"bのリスト→\" , b)\n",
    "print(\"aのリスト→\" , a)\n",
    "\n",
    "b[2] = 4 #aのリストの３番目要素書き換え\n",
    "print(\"以下要素書き換え後のリスト\")\n",
    "print(\"bのリスト→\" , b)\n",
    "print(\"aのリスト→\" , a)"
   ]
  },
  {
   "cell_type": "code",
   "execution_count": 18,
   "id": "79615194-3cc3-4eaa-9631-9bfd1031c048",
   "metadata": {},
   "outputs": [
    {
     "name": "stdout",
     "output_type": "stream",
     "text": [
      "pen1リスト→ ['I', 'have', 'a', 'pen.']\n",
      "appleリスト→ ['I', 'have', 'a', 'pen.']\n",
      "pen2リスト→ ['I', 'have', 'a', 'pen.']\n",
      "pineリスト→ ['I', 'have', 'a', 'pen.']\n",
      "pen1リスト→ ['I', 'have', 'a', 'apple']\n",
      "appleリスト→ ['I', 'have', 'a', 'apple']\n",
      "pen2リスト→ ['I', 'have', 'a', 'pen.']\n",
      "pineリスト→ ['I', 'have', 'a', 'pineappple']\n"
     ]
    }
   ],
   "source": [
    "#演習\n",
    "pen1 = [\"I\", \"have\", \"a\", \"pen.\"]\n",
    "apple = pen1 #appleがpen1のリストをそのままパクる\n",
    "\n",
    "print(\"pen1リスト→\" , pen1)\n",
    "print(\"appleリスト→\" , apple)\n",
    "\n",
    "pen2 = [\"I\", \"have\", \"a\", \"pen.\"]\n",
    "pine = pen2.copy() #pineがpen2のリストをコピーする\n",
    "print(\"pen2リスト→\" , pen2)\n",
    "print(\"pineリスト→\" , pine)\n",
    "\n",
    "apple[3] = \"apple\"\n",
    "print(\"pen1リスト→\" , pen1)\n",
    "print(\"appleリスト→\" , apple)\n",
    "\n",
    "pine[3] = \"pineappple\"\n",
    "print(\"pen2リスト→\" , pen2)\n",
    "print(\"pineリスト→\" , pine)"
   ]
  },
  {
   "cell_type": "code",
   "execution_count": null,
   "id": "f0798900-07e4-4ab6-ba71-ede30f49a558",
   "metadata": {},
   "outputs": [],
   "source": []
  }
 ],
 "metadata": {
  "kernelspec": {
   "display_name": "Python 3 (ipykernel)",
   "language": "python",
   "name": "python3"
  },
  "language_info": {
   "codemirror_mode": {
    "name": "ipython",
    "version": 3
   },
   "file_extension": ".py",
   "mimetype": "text/x-python",
   "name": "python",
   "nbconvert_exporter": "python",
   "pygments_lexer": "ipython3",
   "version": "3.12.4"
  }
 },
 "nbformat": 4,
 "nbformat_minor": 5
}
