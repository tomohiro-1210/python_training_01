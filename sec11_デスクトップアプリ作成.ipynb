{
 "cells": [
  {
   "cell_type": "code",
   "execution_count": 38,
   "id": "c9a68c2f-d4db-4df3-9d5c-b16b33e594e4",
   "metadata": {},
   "outputs": [],
   "source": [
    "# Tkinterをインポートする\n",
    "import tkinter as tk\n",
    "import tkinter.messagebox as mb\n",
    "\n",
    "import random #乱数用のモジュール\n",
    "\n",
    "results = [\n",
    "    [\"大吉\" ,\"あなたの運勢は最高潮!\"],\n",
    "    [\"吉\" ,\"あなたの運勢はいい感じ！\"],\n",
    "    [\"中吉\" ,\"あなたの運勢はそこそこですね\"],\n",
    "    [\"小吉\" ,\"あなたの運勢はちょっとかな\"],\n",
    "    [\"大凶\" ,\"絶望のアナタにはこちらのアイテムがお似合いです・・・\"],\n",
    "]"
   ]
  },
  {
   "cell_type": "code",
   "execution_count": 39,
   "id": "6fcd0605-9de3-4182-a025-0d79959433b8",
   "metadata": {},
   "outputs": [],
   "source": [
    "def tell_fortune():\n",
    "    rand = random.randrange(len(results))\n",
    "    r = results[rand]\n",
    "    mb.showinfo(r[0], r[1])\n",
    "\n",
    "def show_text():\n",
    "    mb.showinfo(\"テキストの出力結果\", \"なんと宝箱はミミックだった！\")\n",
    "\n",
    "root = tk.Tk() #メインウィンドウの作成\n",
    "root.title(\"python占い\") #タイトルの設定\n",
    "root.geometry(\"1000x800\") #ウィンドウのサイズ\n",
    "\n",
    "desc_label = tk.Label(text=\"あなたの運勢を占います。下のボタンをクリックしてください。\") #ラベルtのせく際\n",
    "desc_label.pack() #ラベルをウィンドウに並べる"
   ]
  },
  {
   "cell_type": "code",
   "execution_count": 40,
   "id": "bdcd617e-1a08-4ff8-8647-94967196c3c4",
   "metadata": {},
   "outputs": [],
   "source": [
    "#ボタンの配置\n",
    "ft_button = tk.Button(\n",
    "    text = \"占う\",\n",
    "    width = 50,\n",
    "    height = 10,\n",
    "    command = tell_fortune #ボタンのクリック時に呼ばれる関数を指定\n",
    ")\n",
    "ft_button.pack()\n",
    "\n",
    "\n",
    "text_button = tk.Button(\n",
    "    text = \"押してみる\",\n",
    "    width = 50,\n",
    "    height = 10,\n",
    "    command = show_text #ボタンのクリック時に呼ばれる関数を指定\n",
    ")\n",
    "text_button.pack()\n",
    "\n",
    "#mainloopによりイベントループを開始する\n",
    "root.mainloop()"
   ]
  },
  {
   "cell_type": "code",
   "execution_count": null,
   "id": "97f8a868-8516-435b-898e-a0649807c982",
   "metadata": {},
   "outputs": [],
   "source": []
  }
 ],
 "metadata": {
  "kernelspec": {
   "display_name": "Python 3 (ipykernel)",
   "language": "python",
   "name": "python3"
  },
  "language_info": {
   "codemirror_mode": {
    "name": "ipython",
    "version": 3
   },
   "file_extension": ".py",
   "mimetype": "text/x-python",
   "name": "python",
   "nbconvert_exporter": "python",
   "pygments_lexer": "ipython3",
   "version": "3.12.4"
  }
 },
 "nbformat": 4,
 "nbformat_minor": 5
}
