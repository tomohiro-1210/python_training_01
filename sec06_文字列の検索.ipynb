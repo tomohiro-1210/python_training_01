{
 "cells": [
  {
   "cell_type": "markdown",
   "id": "ed54fcc2-f083-4e0b-8365-9976e4e61e4a",
   "metadata": {},
   "source": [
    "## 文字列の検索"
   ]
  },
  {
   "cell_type": "code",
   "execution_count": 2,
   "id": "dc4d5fec-3d70-4889-b89a-523909ac2b1f",
   "metadata": {},
   "outputs": [
    {
     "name": "stdout",
     "output_type": "stream",
     "text": [
      "6\n"
     ]
    }
   ],
   "source": [
    "#文字列の検索にはfind()を用いる\n",
    "text = \"今日もJRをご利用いただきましてありがとうございます\"\n",
    "text_find = text.find(\"ご利用\")\n",
    "print(text_find)"
   ]
  },
  {
   "cell_type": "code",
   "execution_count": 3,
   "id": "d703f22b-8a76-40dd-acca-515646c07af4",
   "metadata": {},
   "outputs": [
    {
     "name": "stdout",
     "output_type": "stream",
     "text": [
      "-1\n"
     ]
    }
   ],
   "source": [
    "#文字がない場合\n",
    "text = \"今日もJRをご利用いただきましてありがとうございます\"\n",
    "text_find = text.find(\"京都\")\n",
    "print(text_find)\n"
   ]
  },
  {
   "cell_type": "code",
   "execution_count": 6,
   "id": "8975091e-e59f-4e7d-80bb-1e0368d7fe71",
   "metadata": {},
   "outputs": [
    {
     "name": "stdout",
     "output_type": "stream",
     "text": [
      "神戸: True\n",
      "大阪: True\n",
      "東京: False\n"
     ]
    }
   ],
   "source": [
    "#文字列に特定の文字列を調べるためにはinを用いる\n",
    "text = \"私はこれから京都や大阪、神戸三宮に行く予定です。\"\n",
    "kobe = \"神戸\" in text\n",
    "print(\"神戸:\" , kobe)\n",
    "\n",
    "osaka = \"大阪\" in text\n",
    "print(\"大阪:\" , osaka)\n",
    "\n",
    "tokyo = \"東京\" in text\n",
    "print(\"東京:\" , tokyo)"
   ]
  },
  {
   "cell_type": "code",
   "execution_count": 10,
   "id": "afa227ee-1ef3-4348-9cce-67ab77b05534",
   "metadata": {},
   "outputs": [
    {
     "name": "stdout",
     "output_type": "stream",
     "text": [
      "京都は: True\n",
      "京都の数は: 3\n"
     ]
    }
   ],
   "source": [
    "#countで文字の数を調べれる\n",
    "text = \"私はこれから京都府亀岡市から快速と新幹線のぞみ号に乗って京都や名古屋、静岡、新横浜を通って東京都に向かう予定だ\"\n",
    "kyoto = \"京都\" in text\n",
    "print(\"京都は:\" , kyoto)\n",
    "kyoto_count = text.count(\"京都\")\n",
    "print(\"京都の数は:\" , kyoto_count)"
   ]
  },
  {
   "cell_type": "code",
   "execution_count": null,
   "id": "f5ae5a46-b7e7-4461-a603-60d3aff586b5",
   "metadata": {},
   "outputs": [],
   "source": []
  }
 ],
 "metadata": {
  "kernelspec": {
   "display_name": "Python 3 (ipykernel)",
   "language": "python",
   "name": "python3"
  },
  "language_info": {
   "codemirror_mode": {
    "name": "ipython",
    "version": 3
   },
   "file_extension": ".py",
   "mimetype": "text/x-python",
   "name": "python",
   "nbconvert_exporter": "python",
   "pygments_lexer": "ipython3",
   "version": "3.12.4"
  }
 },
 "nbformat": 4,
 "nbformat_minor": 5
}
