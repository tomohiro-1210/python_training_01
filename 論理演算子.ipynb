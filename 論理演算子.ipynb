{
 "cells": [
  {
   "cell_type": "markdown",
   "id": "c97e677e-3293-4757-885b-2a1575e024e3",
   "metadata": {},
   "source": [
    "論理演算子"
   ]
  },
  {
   "cell_type": "code",
   "execution_count": 4,
   "id": "02204e3d-2068-4da4-b1c3-58bb7c606737",
   "metadata": {},
   "outputs": [
    {
     "name": "stdout",
     "output_type": "stream",
     "text": [
      "True\n",
      "<class 'bool'>\n"
     ]
    }
   ],
   "source": [
    "a = 11; b = 10\n",
    "c = a > 4 and b >= 8\n",
    "print(c)\n",
    "print(type(c))"
   ]
  },
  {
   "cell_type": "code",
   "execution_count": 8,
   "id": "d54006f8-01d3-4359-9ab0-747b083092e2",
   "metadata": {},
   "outputs": [
    {
     "name": "stdout",
     "output_type": "stream",
     "text": [
      "True\n",
      "False\n",
      "True\n"
     ]
    }
   ],
   "source": [
    "#いろいろな論理演算子の種類\n",
    "a = 5; b = 10\n",
    "\n",
    "# and 両者を満たす\n",
    "c = a > 4 and b ==10\n",
    "print(c)\n",
    "\n",
    "# or どちらか一方を満たす\n",
    "d = a > 6 or b == 9\n",
    "print(d)\n",
    "\n",
    "# not ではない\n",
    "e = not a == 4\n",
    "print(e)"
   ]
  },
  {
   "cell_type": "code",
   "execution_count": 9,
   "id": "3ba93b7b-c2df-42d2-96d4-e17b0c0a3b73",
   "metadata": {},
   "outputs": [
    {
     "name": "stdout",
     "output_type": "stream",
     "text": [
      "True\n"
     ]
    }
   ],
   "source": [
    "#演習\n",
    "pen_length = 8\n",
    "pen_weight = 10\n",
    "\n",
    "pen_print = pen_length > 6 and pen_weight <= 12\n",
    "print(pen_print)"
   ]
  },
  {
   "cell_type": "code",
   "execution_count": null,
   "id": "2287310c-8dd4-47f2-ba7a-fa35bbc83da4",
   "metadata": {},
   "outputs": [],
   "source": []
  }
 ],
 "metadata": {
  "kernelspec": {
   "display_name": "Python 3 (ipykernel)",
   "language": "python",
   "name": "python3"
  },
  "language_info": {
   "codemirror_mode": {
    "name": "ipython",
    "version": 3
   },
   "file_extension": ".py",
   "mimetype": "text/x-python",
   "name": "python",
   "nbconvert_exporter": "python",
   "pygments_lexer": "ipython3",
   "version": "3.12.4"
  }
 },
 "nbformat": 4,
 "nbformat_minor": 5
}
