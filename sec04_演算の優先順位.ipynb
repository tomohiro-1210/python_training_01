{
 "cells": [
  {
   "cell_type": "markdown",
   "id": "f40eb4a3-550d-4833-8522-86dd7407d926",
   "metadata": {},
   "source": [
    "# 演算の優先順位"
   ]
  },
  {
   "cell_type": "code",
   "execution_count": 7,
   "id": "533263a7-569c-4cbf-9574-a3b5e54bc8f3",
   "metadata": {},
   "outputs": [
    {
     "name": "stdout",
     "output_type": "stream",
     "text": [
      "順番に足し算： 15\n"
     ]
    }
   ],
   "source": [
    "#順番に足し算\n",
    "a = 4; b = 5; c = 6;\n",
    "d = a + b + c\n",
    "print(\"順番に足し算：\" , d)"
   ]
  },
  {
   "cell_type": "code",
   "execution_count": 8,
   "id": "0ef76d19-d4b7-4b40-ad7b-683478d2b7d4",
   "metadata": {},
   "outputs": [
    {
     "name": "stdout",
     "output_type": "stream",
     "text": [
      "足し算と掛け算の組み合わせ： 34\n"
     ]
    }
   ],
   "source": [
    "#足し算と掛け算の組み合わせ\n",
    "a = 4; b = 5; c = 6;\n",
    "d = a + b * c\n",
    "print(\"足し算と掛け算の組み合わせ：\" , d)"
   ]
  },
  {
   "cell_type": "code",
   "execution_count": 9,
   "id": "60bd286d-989c-4fdf-bbf5-cfecd2c35ec9",
   "metadata": {},
   "outputs": [
    {
     "name": "stdout",
     "output_type": "stream",
     "text": [
      "()が入っている場合の答え： 54\n"
     ]
    }
   ],
   "source": [
    "#()が入っている場合\n",
    "a = 4; b = 5; c = 6;\n",
    "d = ( a + b ) * c\n",
    "print(\"()が入っている場合の答え：\" , d)"
   ]
  },
  {
   "cell_type": "code",
   "execution_count": 27,
   "id": "f005f30e-3351-4f52-97e9-d916137b37d2",
   "metadata": {},
   "outputs": [
    {
     "name": "stdout",
     "output_type": "stream",
     "text": [
      "221系網干区\n",
      "False\n",
      "<class 'int'>\n"
     ]
    }
   ],
   "source": [
    "#+, == , =の場合\n",
    "a = 6; b = 6; c = 3\n",
    "\n",
    "train_type = \"683系4000番台\" if b == 9 else \"221系網干区\"\n",
    "print(train_type)\n",
    "\n",
    "d = ( a + c ) == b\n",
    "print(d)\n",
    "print(type(b))"
   ]
  },
  {
   "cell_type": "markdown",
   "id": "d7fcc233-0f14-47c2-8bce-08c85277d4fa",
   "metadata": {},
   "source": [
    "数値計算の演算子、比較演算子、論理演算子、代入演算子の順に高くなる<br>\n",
    "<p style=\"color:red; font-weight: bold;\">\n",
    "数値計算の演算子の中でも、掛け算や割り算は足し算や引き算よりも優先度が高い</p>\n",
    "\n",
    "（↑数学と一緒）"
   ]
  },
  {
   "cell_type": "code",
   "execution_count": 26,
   "id": "947bb52d-1049-4497-92cc-5d50230d7755",
   "metadata": {},
   "outputs": [
    {
     "name": "stdout",
     "output_type": "stream",
     "text": [
      "31\n"
     ]
    }
   ],
   "source": [
    "#演習\n",
    "pen = 3; apple = 4; pine = 5;\n",
    "pico = pen + apple * ( pen + apple )\n",
    "print(pico)"
   ]
  }
 ],
 "metadata": {
  "kernelspec": {
   "display_name": "Python 3 (ipykernel)",
   "language": "python",
   "name": "python3"
  },
  "language_info": {
   "codemirror_mode": {
    "name": "ipython",
    "version": 3
   },
   "file_extension": ".py",
   "mimetype": "text/x-python",
   "name": "python",
   "nbconvert_exporter": "python",
   "pygments_lexer": "ipython3",
   "version": "3.12.4"
  }
 },
 "nbformat": 4,
 "nbformat_minor": 5
}
