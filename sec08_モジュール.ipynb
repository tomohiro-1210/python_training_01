{
 "cells": [
  {
   "cell_type": "markdown",
   "id": "4857ca65-a8a6-443d-827b-0b74689730c2",
   "metadata": {},
   "source": [
    "# モジュール"
   ]
  },
  {
   "cell_type": "code",
   "execution_count": 17,
   "id": "4e020e7c-4bff-4260-9fa2-64a54a030416",
   "metadata": {},
   "outputs": [
    {
     "name": "stdout",
     "output_type": "stream",
     "text": [
      "0.7961675695692371\n"
     ]
    }
   ],
   "source": [
    "import random\n",
    "print(random.random())"
   ]
  },
  {
   "cell_type": "code",
   "execution_count": 18,
   "id": "a551756f-62b7-4d7b-b93b-373eff4bca9b",
   "metadata": {},
   "outputs": [
    {
     "name": "stdout",
     "output_type": "stream",
     "text": [
      "Apple\n"
     ]
    }
   ],
   "source": [
    "import test_module\n",
    "print(test_module.getApple())"
   ]
  },
  {
   "cell_type": "code",
   "execution_count": 19,
   "id": "a564caba-1331-49ed-9f23-71d5e5807178",
   "metadata": {},
   "outputs": [
    {
     "name": "stdout",
     "output_type": "stream",
     "text": [
      "Apple\n"
     ]
    }
   ],
   "source": [
    "#asを使うことでモジュールに別の名前を付けることができる\n",
    "import test_module as tm\n",
    "print(tm.getApple())"
   ]
  },
  {
   "cell_type": "code",
   "execution_count": 20,
   "id": "2db2cfb1-5493-4606-be39-6a327b84d394",
   "metadata": {},
   "outputs": [
    {
     "name": "stdout",
     "output_type": "stream",
     "text": [
      "Apple\n"
     ]
    }
   ],
   "source": [
    "from test_module import getApple\n",
    "print(getApple())"
   ]
  },
  {
   "cell_type": "code",
   "execution_count": 21,
   "id": "1b385633-aec4-4430-9bf5-28a49d64ea44",
   "metadata": {},
   "outputs": [
    {
     "name": "stdout",
     "output_type": "stream",
     "text": [
      "train\n"
     ]
    }
   ],
   "source": [
    "import test_module2 as tm2\n",
    "print(tm2.train())"
   ]
  },
  {
   "cell_type": "code",
   "execution_count": 22,
   "id": "6551b550-7238-4268-8ef1-22584e462a5d",
   "metadata": {
    "scrolled": true
   },
   "outputs": [],
   "source": [
    "import test_module as tm"
   ]
  },
  {
   "cell_type": "code",
   "execution_count": 23,
   "id": "ca1ad001-69b3-4c97-abae-ae1b8bf3cb15",
   "metadata": {},
   "outputs": [
    {
     "name": "stdout",
     "output_type": "stream",
     "text": [
      "381系!\n"
     ]
    }
   ],
   "source": [
    "import importlib\n",
    "import test_module as tm\n",
    "\n",
    "importlib.reload(tm)\n",
    "print(tm.getTrain())"
   ]
  },
  {
   "cell_type": "code",
   "execution_count": null,
   "id": "6ca2e326-f967-4f67-949a-110cc0be2cc3",
   "metadata": {},
   "outputs": [],
   "source": []
  }
 ],
 "metadata": {
  "kernelspec": {
   "display_name": "Python 3 (ipykernel)",
   "language": "python",
   "name": "python3"
  },
  "language_info": {
   "codemirror_mode": {
    "name": "ipython",
    "version": 3
   },
   "file_extension": ".py",
   "mimetype": "text/x-python",
   "name": "python",
   "nbconvert_exporter": "python",
   "pygments_lexer": "ipython3",
   "version": "3.12.4"
  }
 },
 "nbformat": 4,
 "nbformat_minor": 5
}
